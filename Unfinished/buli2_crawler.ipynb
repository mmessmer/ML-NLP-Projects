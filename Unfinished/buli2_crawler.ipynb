{
 "cells": [
  {
   "cell_type": "markdown",
   "metadata": {},
   "source": [
    "# Ein Crawler für Ergebnisse und Statistiken der 2. Bundesliga\n"
   ]
  },
  {
   "cell_type": "code",
   "execution_count": 11,
   "metadata": {},
   "outputs": [],
   "source": [
    "import requests\n",
    "import html.parser\n",
    "from bs4 import BeautifulSoup\n",
    "import re\n",
    "\n",
    "\n",
    "req = requests.get('https://www.fussballdaten.de/2liga/2020/17/')\n",
    "req.status_code\n",
    "\n",
    "if (req.status_code is 200):\n",
    "    # Xpath for ranking: /html/body/div[1]/div/div[4]/div[3]/div[2]/div/div[1]/div[2]/div[2]/a[1]/span[1]\n",
    "    # How to find via CSS?\n",
    "    soup = BeautifulSoup(req.text,\"lxml\")\n",
    "    # Game 1\n",
    "    heim1_name = soup.select('html body div.wrap div.container div#page-content div#spiele.box.bs.green-top div.kategorie-content div.row div.col-md-8.content-spiele.content-divider div.content-spiele div.spiele-row.detils a')\n",
    "    \n",
    "\n"
   ]
  },
  {
   "cell_type": "markdown",
   "metadata": {},
   "source": [
    "# Struktur\n",
    "## Spiel 1\n",
    "### Heimmannschaft 1 Name\n",
    "div.spiele-row:nth-child(2) > a:nth-child(1)\n",
    "### Heim 1 Rang\n",
    "div.spiele-row:nth-child(2) > a:nth-child(1) > span:nth-child(1)\n",
    "### Gast 1 Name\n",
    "div.spiele-row:nth-child(2) > a:nth-child(3)\n",
    "### Gast 1 Rang\n",
    "div.spiele-row:nth-child(2) > a:nth-child(3) > span:nth-child(2)\n",
    "### Ergebnis 1\n",
    "div.spiele-row:nth-child(2) > a:nth-child(2) > span:nth-child(1)\n",
    "\n",
    "## Spiel 2\n",
    "### Heim 2 Name\n",
    "div.spiele-row:nth-child(4) > a:nth-child(1)\n",
    "\n",
    "## Spiel 3\n",
    "### Heim 3 Name\n",
    "div.spiele-row:nth-child(7) > a:nth-child(1)\n",
    "\n",
    "etc.\n",
    "Achtung, Spiele an anderen Tagen überspringen Elemente:\n",
    "Heim 3 Name (nächster Tag -> #4 statt #3)\n",
    "div.spiele-row:nth-child(4) > a:nth-child(1) > span:nth-child(1)\n",
    "\n"
   ]
  }
 ],
 "metadata": {
  "kernelspec": {
   "display_name": "Python 3",
   "language": "python",
   "name": "python3"
  },
  "language_info": {
   "codemirror_mode": {
    "name": "ipython",
    "version": 3
   },
   "file_extension": ".py",
   "mimetype": "text/x-python",
   "name": "python",
   "nbconvert_exporter": "python",
   "pygments_lexer": "ipython3",
   "version": "3.6.4"
  }
 },
 "nbformat": 4,
 "nbformat_minor": 2
}
