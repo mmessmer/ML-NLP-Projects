{
 "cells": [
  {
   "cell_type": "markdown",
   "metadata": {},
   "source": [
    "# Ein Crawler für Ergebnisse und Statistiken der 2. Bundesliga\n"
   ]
  },
  {
   "cell_type": "code",
   "execution_count": 22,
   "metadata": {},
   "outputs": [
    {
     "name": "stdout",
     "output_type": "stream",
     "text": [
      "['(14.)']\n",
      "1\n"
     ]
    }
   ],
   "source": [
    "import requests\n",
    "import html.parser\n",
    "from bs4 import BeautifulSoup\n",
    "\n",
    "\n",
    "req = requests.get('https://www.fussballdaten.de/2liga/2020/17/')\n",
    "req.status_code\n",
    "\n",
    "if (req.status_code is 200):\n",
    "    # Xpath for ranking: /html/body/div[1]/div/div[4]/div[3]/div[2]/div/div[1]/div[2]/div[2]/a[1]/span[1]\n",
    "    # How to find via CSS?\n",
    "    soup = BeautifulSoup(req.text,\"lxml\")\n",
    "    tag = soup.select(\"html body div div div div div div div div div a span\")\n",
    "    print(tag[0].contents)\n",
    "    rank_heim = int(tag[0].contents[0].lstrip('(')[0].rstrip('.)')[0])\n",
    "    print(str(rank_heim))\n",
    "\n"
   ]
  }
 ],
 "metadata": {
  "kernelspec": {
   "display_name": "Python 3",
   "language": "python",
   "name": "python3"
  },
  "language_info": {
   "codemirror_mode": {
    "name": "ipython",
    "version": 3
   },
   "file_extension": ".py",
   "mimetype": "text/x-python",
   "name": "python",
   "nbconvert_exporter": "python",
   "pygments_lexer": "ipython3",
   "version": "3.6.4"
  }
 },
 "nbformat": 4,
 "nbformat_minor": 2
}
