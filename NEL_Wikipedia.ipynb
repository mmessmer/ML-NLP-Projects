{
  "nbformat": 4,
  "nbformat_minor": 0,
  "metadata": {
    "colab": {
      "name": "NEL_Wikipedia.ipynb",
      "provenance": [],
      "collapsed_sections": [
        "cGb4pt4I4RJh",
        "ypK1w_oqTr8O"
      ],
      "toc_visible": true,
      "mount_file_id": "1ZwiiSQ5g-Ftpc4aywQbL0EumJen_nvYB",
      "authorship_tag": "ABX9TyPqxHRj4dLUdgwa6WXYA1FB",
      "include_colab_link": true
    },
    "kernelspec": {
      "name": "python3",
      "display_name": "Python 3"
    }
  },
  "cells": [
    {
      "cell_type": "markdown",
      "metadata": {
        "id": "view-in-github",
        "colab_type": "text"
      },
      "source": [
        "<a href=\"https://colab.research.google.com/github/mmessmer/ML-NLP-Projects/blob/master/NEL_Wikipedia.ipynb\" target=\"_parent\"><img src=\"https://colab.research.google.com/assets/colab-badge.svg\" alt=\"Open In Colab\"/></a>"
      ]
    },
    {
      "cell_type": "markdown",
      "metadata": {
        "id": "0nzGn63d4VLE"
      },
      "source": [
        "# Named Entity Linking based on Wikidata\n",
        "A prototype for identifying and disambiguating named entities using Wikipedia as a knowledge base via the Mediawiki API.\n",
        "\n",
        "## Structure\n",
        "* DB of (person) entities created by using Mediawiki API. For each entry a pageid, title (name) and extract (short description) is stored\n",
        "* For query NER is done using spaCy\n",
        "* For each (person) NER a list of candidates is created using fuzzy string search of names\n",
        "* Using pre-trained BERT model, semantic embedding for candidates and query sentence are created\n",
        "* Semantic similarity calculated via cosine similarity\n",
        "* Closest matching candidates output to JSON\n",
        "\n",
        "## Next steps\n",
        "\n",
        "### Data collection\n",
        "Use Wikipedia dump\n",
        "\n",
        "### Creating training and test sets\n",
        "\n",
        "Train on wikipedia data with NERs:\n",
        "Get Wiki articles on persons and sentences from internal/external links, create training set from them\n",
        "Try https://www.clips.uantwerpen.be/conll2003/ner/\n",
        "\n",
        "### Named entity recognition\n",
        "Use purpose-trained model\n",
        "\n",
        "### Training/Fine-tuning language model to classify NEs\n",
        "\n",
        "Or Labusch et al. (2020): Named Entity Disambiguation and Linking on Historic Newspaper OCR with BERT\n",
        "\n",
        "### TODOs\n",
        "* Get full list of person entities from Wikipedia\n",
        "* Fine-tune model on extracted Wiki sentences\n",
        "* Fine-tune with news or social media sentences\n",
        "* Train classifier on sentence pairs with identical/non-identical entities\n",
        "* Extend for other languages\n",
        "* Extend for different entitites\n",
        "* Extend for different data sources"
      ]
    },
    {
      "cell_type": "code",
      "metadata": {
        "id": "Dictx8ua4I_j",
        "colab": {
          "base_uri": "https://localhost:8080/"
        },
        "outputId": "96b16d90-2352-4d9d-bd50-8c6ccdefdaf1"
      },
      "source": [
        "!pip install sentence_transformers\n",
        "!pip install sentencepiece\n",
        "!python -m spacy download de_core_news_sm\n",
        "\n",
        "import transformers\n",
        "import spacy\n",
        "import de_core_news_sm\n",
        "nlp = de_core_news_sm.load()\n",
        "\n",
        "import pandas as pd\n",
        "from sentence_transformers import SentenceTransformer, util\n",
        "import torch\n",
        "import json\n",
        "\n",
        "import requests\n",
        "import re\n",
        "import time"
      ],
      "execution_count": null,
      "outputs": [
        {
          "output_type": "stream",
          "text": [
            "Collecting sentence_transformers\n",
            "\u001b[?25l  Downloading https://files.pythonhosted.org/packages/35/aa/f672ce489063c4ee7a566ebac1b723c53ac0cea19d9e36599cc241d8ed56/sentence-transformers-1.0.4.tar.gz (74kB)\n",
            "\u001b[K     |████████████████████████████████| 81kB 3.7MB/s \n",
            "\u001b[?25hCollecting transformers<5.0.0,>=3.1.0\n",
            "\u001b[?25l  Downloading https://files.pythonhosted.org/packages/d8/b2/57495b5309f09fa501866e225c84532d1fd89536ea62406b2181933fb418/transformers-4.5.1-py3-none-any.whl (2.1MB)\n",
            "\u001b[K     |████████████████████████████████| 2.1MB 7.4MB/s \n",
            "\u001b[?25hRequirement already satisfied: tqdm in /usr/local/lib/python3.7/dist-packages (from sentence_transformers) (4.41.1)\n",
            "Requirement already satisfied: torch>=1.6.0 in /usr/local/lib/python3.7/dist-packages (from sentence_transformers) (1.8.1+cu101)\n",
            "Requirement already satisfied: numpy in /usr/local/lib/python3.7/dist-packages (from sentence_transformers) (1.19.5)\n",
            "Requirement already satisfied: scikit-learn in /usr/local/lib/python3.7/dist-packages (from sentence_transformers) (0.22.2.post1)\n",
            "Requirement already satisfied: scipy in /usr/local/lib/python3.7/dist-packages (from sentence_transformers) (1.4.1)\n",
            "Requirement already satisfied: nltk in /usr/local/lib/python3.7/dist-packages (from sentence_transformers) (3.2.5)\n",
            "Collecting sentencepiece\n",
            "\u001b[?25l  Downloading https://files.pythonhosted.org/packages/f5/99/e0808cb947ba10f575839c43e8fafc9cc44e4a7a2c8f79c60db48220a577/sentencepiece-0.1.95-cp37-cp37m-manylinux2014_x86_64.whl (1.2MB)\n",
            "\u001b[K     |████████████████████████████████| 1.2MB 23.0MB/s \n",
            "\u001b[?25hRequirement already satisfied: filelock in /usr/local/lib/python3.7/dist-packages (from transformers<5.0.0,>=3.1.0->sentence_transformers) (3.0.12)\n",
            "Collecting tokenizers<0.11,>=0.10.1\n",
            "\u001b[?25l  Downloading https://files.pythonhosted.org/packages/ae/04/5b870f26a858552025a62f1649c20d29d2672c02ff3c3fb4c688ca46467a/tokenizers-0.10.2-cp37-cp37m-manylinux2010_x86_64.whl (3.3MB)\n",
            "\u001b[K     |████████████████████████████████| 3.3MB 39.3MB/s \n",
            "\u001b[?25hRequirement already satisfied: importlib-metadata; python_version < \"3.8\" in /usr/local/lib/python3.7/dist-packages (from transformers<5.0.0,>=3.1.0->sentence_transformers) (3.10.1)\n",
            "Requirement already satisfied: requests in /usr/local/lib/python3.7/dist-packages (from transformers<5.0.0,>=3.1.0->sentence_transformers) (2.23.0)\n",
            "Requirement already satisfied: regex!=2019.12.17 in /usr/local/lib/python3.7/dist-packages (from transformers<5.0.0,>=3.1.0->sentence_transformers) (2019.12.20)\n",
            "Requirement already satisfied: packaging in /usr/local/lib/python3.7/dist-packages (from transformers<5.0.0,>=3.1.0->sentence_transformers) (20.9)\n",
            "Collecting sacremoses\n",
            "\u001b[?25l  Downloading https://files.pythonhosted.org/packages/08/cd/342e584ee544d044fb573ae697404ce22ede086c9e87ce5960772084cad0/sacremoses-0.0.44.tar.gz (862kB)\n",
            "\u001b[K     |████████████████████████████████| 870kB 36.5MB/s \n",
            "\u001b[?25hRequirement already satisfied: typing-extensions in /usr/local/lib/python3.7/dist-packages (from torch>=1.6.0->sentence_transformers) (3.7.4.3)\n",
            "Requirement already satisfied: joblib>=0.11 in /usr/local/lib/python3.7/dist-packages (from scikit-learn->sentence_transformers) (1.0.1)\n",
            "Requirement already satisfied: six in /usr/local/lib/python3.7/dist-packages (from nltk->sentence_transformers) (1.15.0)\n",
            "Requirement already satisfied: zipp>=0.5 in /usr/local/lib/python3.7/dist-packages (from importlib-metadata; python_version < \"3.8\"->transformers<5.0.0,>=3.1.0->sentence_transformers) (3.4.1)\n",
            "Requirement already satisfied: chardet<4,>=3.0.2 in /usr/local/lib/python3.7/dist-packages (from requests->transformers<5.0.0,>=3.1.0->sentence_transformers) (3.0.4)\n",
            "Requirement already satisfied: urllib3!=1.25.0,!=1.25.1,<1.26,>=1.21.1 in /usr/local/lib/python3.7/dist-packages (from requests->transformers<5.0.0,>=3.1.0->sentence_transformers) (1.24.3)\n",
            "Requirement already satisfied: idna<3,>=2.5 in /usr/local/lib/python3.7/dist-packages (from requests->transformers<5.0.0,>=3.1.0->sentence_transformers) (2.10)\n",
            "Requirement already satisfied: certifi>=2017.4.17 in /usr/local/lib/python3.7/dist-packages (from requests->transformers<5.0.0,>=3.1.0->sentence_transformers) (2020.12.5)\n",
            "Requirement already satisfied: pyparsing>=2.0.2 in /usr/local/lib/python3.7/dist-packages (from packaging->transformers<5.0.0,>=3.1.0->sentence_transformers) (2.4.7)\n",
            "Requirement already satisfied: click in /usr/local/lib/python3.7/dist-packages (from sacremoses->transformers<5.0.0,>=3.1.0->sentence_transformers) (7.1.2)\n",
            "Building wheels for collected packages: sentence-transformers, sacremoses\n",
            "  Building wheel for sentence-transformers (setup.py) ... \u001b[?25l\u001b[?25hdone\n",
            "  Created wheel for sentence-transformers: filename=sentence_transformers-1.0.4-cp37-none-any.whl size=114307 sha256=bf3ff3fd1ebb9b4b46d4ce33a93f0d499e4bfd89e80f02987afa7a4be95c5708\n",
            "  Stored in directory: /root/.cache/pip/wheels/26/ea/89/d0d2e013d951b6d23270aa9ca4018b82632ab7cd933c331316\n",
            "  Building wheel for sacremoses (setup.py) ... \u001b[?25l\u001b[?25hdone\n",
            "  Created wheel for sacremoses: filename=sacremoses-0.0.44-cp37-none-any.whl size=886084 sha256=03c5adea15a1460b5b6bede08abc353c4af314c2eb61c98e73dd157b572fb442\n",
            "  Stored in directory: /root/.cache/pip/wheels/3e/fb/c0/13ab4d63d537658f448366744654323077c4d90069b6512f3c\n",
            "Successfully built sentence-transformers sacremoses\n",
            "Installing collected packages: tokenizers, sacremoses, transformers, sentencepiece, sentence-transformers\n",
            "Successfully installed sacremoses-0.0.44 sentence-transformers-1.0.4 sentencepiece-0.1.95 tokenizers-0.10.2 transformers-4.5.1\n",
            "Requirement already satisfied: sentencepiece in /usr/local/lib/python3.7/dist-packages (0.1.95)\n",
            "Collecting de_core_news_sm==2.2.5\n",
            "\u001b[?25l  Downloading https://github.com/explosion/spacy-models/releases/download/de_core_news_sm-2.2.5/de_core_news_sm-2.2.5.tar.gz (14.9MB)\n",
            "\u001b[K     |████████████████████████████████| 14.9MB 4.9MB/s \n",
            "\u001b[?25hRequirement already satisfied: spacy>=2.2.2 in /usr/local/lib/python3.7/dist-packages (from de_core_news_sm==2.2.5) (2.2.4)\n",
            "Requirement already satisfied: cymem<2.1.0,>=2.0.2 in /usr/local/lib/python3.7/dist-packages (from spacy>=2.2.2->de_core_news_sm==2.2.5) (2.0.5)\n",
            "Requirement already satisfied: srsly<1.1.0,>=1.0.2 in /usr/local/lib/python3.7/dist-packages (from spacy>=2.2.2->de_core_news_sm==2.2.5) (1.0.5)\n",
            "Requirement already satisfied: thinc==7.4.0 in /usr/local/lib/python3.7/dist-packages (from spacy>=2.2.2->de_core_news_sm==2.2.5) (7.4.0)\n",
            "Requirement already satisfied: setuptools in /usr/local/lib/python3.7/dist-packages (from spacy>=2.2.2->de_core_news_sm==2.2.5) (54.2.0)\n",
            "Requirement already satisfied: plac<1.2.0,>=0.9.6 in /usr/local/lib/python3.7/dist-packages (from spacy>=2.2.2->de_core_news_sm==2.2.5) (1.1.3)\n",
            "Requirement already satisfied: catalogue<1.1.0,>=0.0.7 in /usr/local/lib/python3.7/dist-packages (from spacy>=2.2.2->de_core_news_sm==2.2.5) (1.0.0)\n",
            "Requirement already satisfied: requests<3.0.0,>=2.13.0 in /usr/local/lib/python3.7/dist-packages (from spacy>=2.2.2->de_core_news_sm==2.2.5) (2.23.0)\n",
            "Requirement already satisfied: wasabi<1.1.0,>=0.4.0 in /usr/local/lib/python3.7/dist-packages (from spacy>=2.2.2->de_core_news_sm==2.2.5) (0.8.2)\n",
            "Requirement already satisfied: numpy>=1.15.0 in /usr/local/lib/python3.7/dist-packages (from spacy>=2.2.2->de_core_news_sm==2.2.5) (1.19.5)\n",
            "Requirement already satisfied: murmurhash<1.1.0,>=0.28.0 in /usr/local/lib/python3.7/dist-packages (from spacy>=2.2.2->de_core_news_sm==2.2.5) (1.0.5)\n",
            "Requirement already satisfied: tqdm<5.0.0,>=4.38.0 in /usr/local/lib/python3.7/dist-packages (from spacy>=2.2.2->de_core_news_sm==2.2.5) (4.41.1)\n",
            "Requirement already satisfied: preshed<3.1.0,>=3.0.2 in /usr/local/lib/python3.7/dist-packages (from spacy>=2.2.2->de_core_news_sm==2.2.5) (3.0.5)\n",
            "Requirement already satisfied: blis<0.5.0,>=0.4.0 in /usr/local/lib/python3.7/dist-packages (from spacy>=2.2.2->de_core_news_sm==2.2.5) (0.4.1)\n",
            "Requirement already satisfied: importlib-metadata>=0.20; python_version < \"3.8\" in /usr/local/lib/python3.7/dist-packages (from catalogue<1.1.0,>=0.0.7->spacy>=2.2.2->de_core_news_sm==2.2.5) (3.10.1)\n",
            "Requirement already satisfied: certifi>=2017.4.17 in /usr/local/lib/python3.7/dist-packages (from requests<3.0.0,>=2.13.0->spacy>=2.2.2->de_core_news_sm==2.2.5) (2020.12.5)\n",
            "Requirement already satisfied: idna<3,>=2.5 in /usr/local/lib/python3.7/dist-packages (from requests<3.0.0,>=2.13.0->spacy>=2.2.2->de_core_news_sm==2.2.5) (2.10)\n",
            "Requirement already satisfied: chardet<4,>=3.0.2 in /usr/local/lib/python3.7/dist-packages (from requests<3.0.0,>=2.13.0->spacy>=2.2.2->de_core_news_sm==2.2.5) (3.0.4)\n",
            "Requirement already satisfied: urllib3!=1.25.0,!=1.25.1,<1.26,>=1.21.1 in /usr/local/lib/python3.7/dist-packages (from requests<3.0.0,>=2.13.0->spacy>=2.2.2->de_core_news_sm==2.2.5) (1.24.3)\n",
            "Requirement already satisfied: typing-extensions>=3.6.4; python_version < \"3.8\" in /usr/local/lib/python3.7/dist-packages (from importlib-metadata>=0.20; python_version < \"3.8\"->catalogue<1.1.0,>=0.0.7->spacy>=2.2.2->de_core_news_sm==2.2.5) (3.7.4.3)\n",
            "Requirement already satisfied: zipp>=0.5 in /usr/local/lib/python3.7/dist-packages (from importlib-metadata>=0.20; python_version < \"3.8\"->catalogue<1.1.0,>=0.0.7->spacy>=2.2.2->de_core_news_sm==2.2.5) (3.4.1)\n",
            "Building wheels for collected packages: de-core-news-sm\n",
            "  Building wheel for de-core-news-sm (setup.py) ... \u001b[?25l\u001b[?25hdone\n",
            "  Created wheel for de-core-news-sm: filename=de_core_news_sm-2.2.5-cp37-none-any.whl size=14907057 sha256=7f6c3a578ac22c330ff246391876161e950235e74208b1a0ab68db8922db3c8a\n",
            "  Stored in directory: /tmp/pip-ephem-wheel-cache-o7b4f3i8/wheels/ba/3f/ed/d4aa8e45e7191b7f32db4bfad565e7da1edbf05c916ca7a1ca\n",
            "Successfully built de-core-news-sm\n",
            "Installing collected packages: de-core-news-sm\n",
            "Successfully installed de-core-news-sm-2.2.5\n",
            "\u001b[38;5;2m✔ Download and installation successful\u001b[0m\n",
            "You can now load the model via spacy.load('de_core_news_sm')\n"
          ],
          "name": "stdout"
        }
      ]
    },
    {
      "cell_type": "markdown",
      "metadata": {
        "id": "cGb4pt4I4RJh"
      },
      "source": [
        "## Getting the data\n",
        "### Exploring \"Person\" categories in Wikipedia"
      ]
    },
    {
      "cell_type": "code",
      "metadata": {
        "colab": {
          "base_uri": "https://localhost:8080/"
        },
        "id": "zbP4huH0b-ya",
        "outputId": "37d6fb26-b04d-48e4-d057-de03e4e0cf74"
      },
      "source": [
        "session = requests.Session()\n",
        "\n",
        "url = \"https://de.wikipedia.org/w/api.php\"\n",
        "\n",
        "params = {\n",
        "    \"action\": \"query\",\n",
        "    \"cmtitle\": \"Kategorie:Person nach Staatsangehörigkeit\",\n",
        "    \"cmlimit\": 10,\n",
        "    \"list\": \"categorymembers\",\n",
        "    \"format\": \"json\"\n",
        "}\n",
        "\n",
        "response = session.get(url=url, params=params)\n",
        "response_data = response.json()\n",
        "\n",
        "country_cats = [c['title'] for c in response_data['query']['categorymembers']]\n",
        "\n",
        "len(country_cats)"
      ],
      "execution_count": null,
      "outputs": [
        {
          "output_type": "execute_result",
          "data": {
            "text/plain": [
              "10"
            ]
          },
          "metadata": {
            "tags": []
          },
          "execution_count": 17
        }
      ]
    },
    {
      "cell_type": "markdown",
      "metadata": {
        "id": "ypK1w_oqTr8O"
      },
      "source": [
        "### Exploring DBPedia\n",
        "DBPedia allows querying categories with (exact) name matching, but the returned categories seemed to be messy and include lists and other unrelated pages."
      ]
    },
    {
      "cell_type": "code",
      "metadata": {
        "id": "D5X0IOL04DEm",
        "colab": {
          "base_uri": "https://localhost:8080/"
        },
        "outputId": "1d515da9-11db-4017-bf63-213e275e2b21"
      },
      "source": [
        "!pip install SPARQLWrapper\n",
        "from SPARQLWrapper import SPARQLWrapper, JSON\n",
        "\n",
        "sparql = SPARQLWrapper(\"http://dbpedia.org/sparql\")\n",
        "query = '''select ?person\n",
        "where {\n",
        "  ?person foaf:name \"Thomas Müller\"@en.\n",
        "  ?person a foaf:Person.\n",
        "}\n",
        "LIMIT 50'''\n",
        "\n",
        "sparql.setQuery(query)\n",
        "sparql.setReturnFormat(JSON)\n",
        "res = sparql.query().convert()\n",
        "res"
      ],
      "execution_count": null,
      "outputs": [
        {
          "output_type": "stream",
          "text": [
            "Collecting SPARQLWrapper\n",
            "  Downloading https://files.pythonhosted.org/packages/00/9b/443fbe06996c080ee9c1f01b04e2f683b2b07e149905f33a2397ee3b80a2/SPARQLWrapper-1.8.5-py3-none-any.whl\n",
            "Collecting rdflib>=4.0\n",
            "\u001b[?25l  Downloading https://files.pythonhosted.org/packages/d0/6b/6454aa1db753c0f8bc265a5bd5c10b5721a4bb24160fb4faf758cf6be8a1/rdflib-5.0.0-py3-none-any.whl (231kB)\n",
            "\u001b[K     |████████████████████████████████| 235kB 7.4MB/s \n",
            "\u001b[?25hCollecting isodate\n",
            "\u001b[?25l  Downloading https://files.pythonhosted.org/packages/9b/9f/b36f7774ff5ea8e428fdcfc4bb332c39ee5b9362ddd3d40d9516a55221b2/isodate-0.6.0-py2.py3-none-any.whl (45kB)\n",
            "\u001b[K     |████████████████████████████████| 51kB 5.1MB/s \n",
            "\u001b[?25hRequirement already satisfied: pyparsing in /usr/local/lib/python3.7/dist-packages (from rdflib>=4.0->SPARQLWrapper) (2.4.7)\n",
            "Requirement already satisfied: six in /usr/local/lib/python3.7/dist-packages (from rdflib>=4.0->SPARQLWrapper) (1.15.0)\n",
            "Installing collected packages: isodate, rdflib, SPARQLWrapper\n",
            "Successfully installed SPARQLWrapper-1.8.5 isodate-0.6.0 rdflib-5.0.0\n"
          ],
          "name": "stdout"
        },
        {
          "output_type": "execute_result",
          "data": {
            "text/plain": [
              "{'head': {'link': [], 'vars': ['person']},\n",
              " 'results': {'bindings': [{'person': {'type': 'uri',\n",
              "     'value': 'http://dbpedia.org/resource/2013_FIFA_Club_World_Cup_squads'}},\n",
              "   {'person': {'type': 'uri',\n",
              "     'value': 'http://dbpedia.org/resource/2014_MLS_All-Star_Game__Thomas_Müller__1'}},\n",
              "   {'person': {'type': 'uri',\n",
              "     'value': 'http://dbpedia.org/resource/2016–17_FC_Bayern_Munich_season__Thomas_Müller__1'}},\n",
              "   {'person': {'type': 'uri',\n",
              "     'value': 'http://dbpedia.org/resource/List_of_German_football_transfers_summer_2009'}},\n",
              "   {'person': {'type': 'uri',\n",
              "     'value': 'http://dbpedia.org/resource/FC_Bayern_Munich__Thomas_Müller__1'}},\n",
              "   {'person': {'type': 'uri',\n",
              "     'value': 'http://dbpedia.org/resource/Thomas_Müller'}},\n",
              "   {'person': {'type': 'uri',\n",
              "     'value': 'http://dbpedia.org/resource/Thomas_Müller_(SS_officer)'}},\n",
              "   {'person': {'type': 'uri',\n",
              "     'value': 'http://dbpedia.org/resource/2007–08_FC_Bayern_Munich_season__Thomas_Müller__1'}},\n",
              "   {'person': {'type': 'uri',\n",
              "     'value': 'http://dbpedia.org/resource/2008–09_FC_Bayern_Munich_season__Thomas_Müller__1'}},\n",
              "   {'person': {'type': 'uri',\n",
              "     'value': 'http://dbpedia.org/resource/2011–12_FC_Bayern_Munich_season__Thomas_Müller__1'}},\n",
              "   {'person': {'type': 'uri',\n",
              "     'value': 'http://dbpedia.org/resource/2017–18_FC_Bayern_Munich_season__Thomas_Müller__1'}},\n",
              "   {'person': {'type': 'uri',\n",
              "     'value': 'http://dbpedia.org/resource/2018–19_FC_Bayern_Munich_season__Thomas_Müller__1'}},\n",
              "   {'person': {'type': 'uri',\n",
              "     'value': 'http://dbpedia.org/resource/2019–20_FC_Bayern_Munich_season__Thomas_Müller__1'}},\n",
              "   {'person': {'type': 'uri',\n",
              "     'value': 'http://dbpedia.org/resource/2020–21_FC_Bayern_Munich_season__Thomas_Müller__1'}}],\n",
              "  'distinct': False,\n",
              "  'ordered': True}}"
            ]
          },
          "metadata": {
            "tags": []
          },
          "execution_count": 19
        }
      ]
    },
    {
      "cell_type": "markdown",
      "metadata": {
        "id": "hRpRsLKWUFfC"
      },
      "source": [
        "### Approach 1: Entity retrievel via local sample taken from MediaWiki API\n",
        "Back to Wikipedia: get a list of pageids by a deliberate sample of persons categorized by country: US and German persons.\n",
        "For persons with an extract (summary) of their Wiki article collect these extracts.\n",
        "\n",
        "#### Improvements\n",
        "*  Fix issue with missing German data (after letter 'P')\n",
        "*  Get more persons from more countries\n",
        "*  Use full text data instead of just extracts\n",
        "*  Get other NEs"
      ]
    },
    {
      "cell_type": "code",
      "metadata": {
        "id": "b0ZPqhffe_kf"
      },
      "source": [
        "def get_ids_from_categories(categories):\n",
        "  n_entries = 0\n",
        "  for category in categories:\n",
        "    outf_path = './' + category.replace(':','_')+ '.csv'\n",
        "    cc_params = {\n",
        "        \"action\": \"query\",\n",
        "        \"cmtitle\": category,\n",
        "        \"cmlimit\": \"max\",\n",
        "        \"list\": \"categorymembers\",\n",
        "        \"cmdir\": \"desc\",\n",
        "        \"format\": \"json\"\n",
        "    }\n",
        "    response = session.get(url=url, params=cc_params)\n",
        "    if response.status_code != 200:\n",
        "      print(\"Error retrieving pages for category {}.\".format(category))\n",
        "      print(response.reason)\n",
        "      continue\n",
        "    r = response.json()\n",
        "    cont = r['continue']['cmcontinue']\n",
        "    with open(outf_path, 'a') as outf:\n",
        "      for p in r['query']['categorymembers']:\n",
        "        n_entries += 1\n",
        "        outf.write(p['title'] + '\\t' + str(p['pageid']) + '\\n')\n",
        "    time.sleep(1.5)\n",
        "\n",
        "    # Keep going through the list\n",
        "    while cont:\n",
        "      cc_params = {\n",
        "          \"action\": \"query\",\n",
        "          \"cmtitle\": category,\n",
        "          \"cmcontinue\": cont,\n",
        "          \"cmlimit\": 500,\n",
        "          \"list\": \"categorymembers\",\n",
        "          \"format\": \"json\"\n",
        "      }\n",
        "      response = session.get(url=url, params=cc_params)\n",
        "      if response.status_code != 200:\n",
        "        print(\"Error retrieving pages for category {}.\".format(category))\n",
        "        print(response.reason)\n",
        "        continue\n",
        "      r = response.json()\n",
        "      try:\n",
        "        cont = r['continue']['cmcontinue']\n",
        "      except KeyError:\n",
        "        continue\n",
        "\n",
        "      with open(outf_path, 'a') as outf:\n",
        "        for p in r['query']['categorymembers']:\n",
        "          n_entries += 1\n",
        "          outf.write(p['title'] + '\\t' + str(p['pageid']) + '\\n')\n",
        "      print(\"Wrote {} entries.\".format(str(n_entries)))\n",
        "      time.sleep(1.5)"
      ],
      "execution_count": null,
      "outputs": []
    },
    {
      "cell_type": "code",
      "metadata": {
        "id": "uuthsrqAMgQz"
      },
      "source": [
        "# To get only approx. 380k entries\n",
        "sample_countries = [\n",
        "                    \"Kategorie:Deutscher\",\n",
        "                    #\"Kategorie:US-Amerikaner\"\n",
        "                    ]\n",
        "get_ids_from_categories(sample_countries)"
      ],
      "execution_count": null,
      "outputs": []
    },
    {
      "cell_type": "markdown",
      "metadata": {
        "id": "bo-Hblp_lTN-"
      },
      "source": [
        "Go through list of entries and batchwise get extracts by pageids. A maximum of 1000 characters is retrieved per extract."
      ]
    },
    {
      "cell_type": "code",
      "metadata": {
        "id": "oipXuCl9fO6G"
      },
      "source": [
        "from functools import reduce\n",
        "\n",
        "def extract_text_from_pageids(infile_name, outfile_name):\n",
        "  names, name_batch, pageids, pid_batch = [], [], [], []\n",
        "  with open(infile_name) as inf:\n",
        "    for line in inf:\n",
        "      name, pageid = line.rstrip('\\n').split('\\t')\n",
        "      name_batch.append(name)\n",
        "      pid_batch.append(pageid)\n",
        "      if len(pid_batch) == 20:\n",
        "        names.append(name_batch)\n",
        "        name_batch = []\n",
        "        pageids.append(pid_batch)\n",
        "        pid_batch = []\n",
        "\n",
        "\n",
        "  n = 0\n",
        "  for batch in pageids:\n",
        "    outf = open(outfile_name, 'a')\n",
        "    pids = reduce(lambda x, y: str(x) + '|' + str(y), batch)\n",
        "\n",
        "    params = {\n",
        "      \"action\": \"query\",\n",
        "      \"format\": \"json\",\n",
        "      \"prop\": \"extracts\",\n",
        "      \"pageids\": pids,\n",
        "      \"formatversion\": \"2\",\n",
        "      \"exchars\": \"1000\",\n",
        "      \"explaintext\": 1,\n",
        "      \"exsectionformat\": \"plain\",\n",
        "      \"exintro\": 1,\n",
        "    }\n",
        "\n",
        "    response = session.get(url=url, params=params)\n",
        "    if response.status_code != 200:\n",
        "      print(\"Error retrieving pages for category {}.\".format(country))\n",
        "      print(response.reason)\n",
        "      continue\n",
        "    r = response.json()\n",
        "    for page in r['query']['pages']:\n",
        "      try:\n",
        "        extract = page['extract']\n",
        "        extract = extract.replace('\\n','').rstrip('…')\n",
        "        title = page['title']\n",
        "        pid = page['pageid']\n",
        "        outf.write('\"{}\"\\t\"{}\"\\t\"{}\"\\n'.format(str(pid), title, extract))\n",
        "      except KeyError:\n",
        "        continue\n",
        "    outf.close()\n",
        "    n += 1\n",
        "    if not n % 10:\n",
        "      print(\"Processed batch {} of {}\".format(str(n),str(len(pageids))))\n",
        "      \n",
        "    time.sleep(0.20)"
      ],
      "execution_count": null,
      "outputs": []
    },
    {
      "cell_type": "markdown",
      "metadata": {
        "id": "Z9DiVUGvrP6W"
      },
      "source": [
        "Read results and put them in Pandas DataFrame for next steps"
      ]
    },
    {
      "cell_type": "code",
      "metadata": {
        "id": "5Oau-SqLgSem"
      },
      "source": [
        "#extract_text_from_pageids('Kategorie_Deutscher.csv','de_person_extracts.csv')\n",
        "# Extracting previously cut off entries starting at \"Pungs\"\n",
        "extract_text_from_pageids('Kategorie_Deutscher_Pungs.csv','de_person_extracts_pungs.csv')\n",
        "\n",
        "\n",
        "de_persons = pd.read_csv('de_person_extracts_pungs.csv', sep='\\t', names=[\"pageid\", \"title\", \"extract\"], dtype='string')\n",
        "de_persons = de_persons.dropna(axis=0)\n",
        "de_persons_lower = pd.concat([de_persons['pageid'], de_persons['title'].str.lower(), de_persons['extract']],axis=1)\n",
        "de_persons_lower"
      ],
      "execution_count": null,
      "outputs": []
    },
    {
      "cell_type": "markdown",
      "metadata": {
        "id": "VsbSxWm2875H"
      },
      "source": [
        "### Approach 2: Entity retrieval via Wikipedia search and DBpedia data\n",
        "Get candidates via Wikipedia API search and check their entity category via DBpedia. Abstracts with short descriptions are then also retrieved from DBpedia. This approach has several advantages\n",
        "- Mostly language-independent\n",
        "- Data doesn't need to be scraped\n",
        "- Data is always up to date\n",
        "\n",
        "Downsides are that the search may slow it down and the results depend on the external (black-box) Wikipedia API search algorithm\n",
        "\n",
        "#### Improvements:\n",
        "- Map categories for other entity types (LOC, ORG...)"
      ]
    },
    {
      "cell_type": "code",
      "metadata": {
        "colab": {
          "base_uri": "https://localhost:8080/"
        },
        "id": "hSta4faf9l_9",
        "outputId": "46cfed1e-290c-4abe-c110-b7e96c961dcf"
      },
      "source": [
        "!pip install wikipedia\n",
        "import wikipedia as wiki"
      ],
      "execution_count": null,
      "outputs": [
        {
          "output_type": "stream",
          "text": [
            "Requirement already satisfied: wikipedia in /usr/local/lib/python3.7/dist-packages (1.4.0)\n",
            "Requirement already satisfied: beautifulsoup4 in /usr/local/lib/python3.7/dist-packages (from wikipedia) (4.6.3)\n",
            "Requirement already satisfied: requests<3.0.0,>=2.0.0 in /usr/local/lib/python3.7/dist-packages (from wikipedia) (2.23.0)\n",
            "Requirement already satisfied: chardet<4,>=3.0.2 in /usr/local/lib/python3.7/dist-packages (from requests<3.0.0,>=2.0.0->wikipedia) (3.0.4)\n",
            "Requirement already satisfied: urllib3!=1.25.0,!=1.25.1,<1.26,>=1.21.1 in /usr/local/lib/python3.7/dist-packages (from requests<3.0.0,>=2.0.0->wikipedia) (1.24.3)\n",
            "Requirement already satisfied: certifi>=2017.4.17 in /usr/local/lib/python3.7/dist-packages (from requests<3.0.0,>=2.0.0->wikipedia) (2020.12.5)\n",
            "Requirement already satisfied: idna<3,>=2.5 in /usr/local/lib/python3.7/dist-packages (from requests<3.0.0,>=2.0.0->wikipedia) (2.10)\n"
          ],
          "name": "stdout"
        }
      ]
    },
    {
      "cell_type": "code",
      "metadata": {
        "id": "LrAOVNSmaayz"
      },
      "source": [
        "# DBPedia results:\n",
        "\n",
        "def get_dbpedia_abstract(name,ent_type='PER',lang='de'):\n",
        "  # Get the name in the wiki URL format\n",
        "  query = name.replace(' ','_')\n",
        "\n",
        "  # Search under this node for the person category, located\n",
        "  # under /resource/<name>/\n",
        "  rdf_type = \"http://www.w3.org/1999/02/22-rdf-syntax-ns#type\"\n",
        "\n",
        "  # Type name mapping.\n",
        "  # Type names are under /resource/<name>/<rdf_type>\n",
        "  ent_map = {\n",
        "      \"PER\" : { \"type\" : \"uri\", \"value\" : \"http://dbpedia.org/ontology/Person\" }\n",
        "  }\n",
        "  # Directly under /resource/<name>\n",
        "  abstract_url = \"http://dbpedia.org/ontology/abstract\"\n",
        "\n",
        "  # Get the query (page title) into the right format by replacing spaces \n",
        "  # with an underscore and insert into the URL format\n",
        "  lang_prefix = {'de':'de.','en':''}\n",
        "  url = \"http://{}dbpedia.org/data/{}.json\".format(lang_prefix[lang],query)\n",
        "  res_name = \"http://{}dbpedia.org/resource/{}\".format(lang_prefix[lang],query)\n",
        "  session = requests.Session()\n",
        "\n",
        "  response = session.get(url=url).json()\n",
        "  if not response:\n",
        "    #print('No entry found for name \"{}\"'.format(name))\n",
        "    return None\n",
        "\n",
        "  \n",
        "  try:\n",
        "    properties = response[res_name]\n",
        "    # Entity is a person\n",
        "    if ent_map[ent_type] in properties[rdf_type]:\n",
        "      # Return abstract in requestsed language\n",
        "      for abstract in properties[abstract_url]:\n",
        "        if abstract['lang'] == lang:\n",
        "          return abstract['value']\n",
        "      return None\n",
        "  except KeyError:\n",
        "    #print('Matched entry \"{}\" does not contain required information'.format(url))\n",
        "    return None\n",
        "  \n",
        "def get_candidates(ner_string,ent_type='PER',lang='de',n=15):\n",
        "  search_results = wiki.search(ner_string,results=n)\n",
        "  names, abstracts = [], []\n",
        "\n",
        "  # Retrieve abstract and, if present, add to dict of candidates\n",
        "  for cand in search_results:\n",
        "    abstract = get_dbpedia_abstract(cand,ent_type,lang)\n",
        "    # Check if there is an abstract and if the NE string is contained in the\n",
        "    # candidate. Wiki API search sometimes returns irrelevant results\n",
        "    if abstract:\n",
        "      names.append(cand)\n",
        "      abstracts.append(abstract)\n",
        "\n",
        "  # Put everything in dict format suitable for pandas\n",
        "  cand_list = {'entities':names, 'abstracts':abstracts}\n",
        "  return cand_list"
      ],
      "execution_count": 109,
      "outputs": []
    },
    {
      "cell_type": "markdown",
      "metadata": {
        "id": "d-dCptG9-gx0"
      },
      "source": [
        "## NEL via semantics similarity of contextual embeddings\n",
        "A string search is done to collect candidates from the small DB of extracts and by computing embeddings for each candidate and the query sentence the most similar candidate is chosen.\n",
        "\n",
        "#### Improvements\n",
        "*   Train the model on provided data from Wikipedia and related links (e.g. to news sites)\n",
        "*   Store already retrieved embeddings in persons DF to improve performance\n",
        "*   Get prior probabilities of entities by collecting frequency statistics and use them for the candidate selection\n",
        "\n"
      ]
    },
    {
      "cell_type": "code",
      "metadata": {
        "id": "MYPyMBZtHOyr"
      },
      "source": [
        "# Load model suited for semantic similarity, must be trained for German data,\n",
        "# in this case a multilingual model\n",
        "# TODO: train model on appropriate data\n",
        "# distilbert-base-multilingual-cased\n",
        "model = SentenceTransformer('bert-base-multilingual-cased')\n",
        "\n",
        "test_sentences = [\n",
        "                  \"Merkel sprach am Sonntag im Bundeskanzleramt mit ihrem Kabinett über das Vorgehen in der Corona-Krise.\",\n",
        "                  \"Hansi #Flick: „Es ist wichtig, dass man zufrieden ist mit dem 5:1. Den Sieg haben wir auch in der Höhe verdient.\\\" #MiaSanMia #FCBayern\",\n",
        "                  \"Kanzleramtschef Braun (CDU) ein Jahr nach Pandemiebeginn zu Mängeln der Corona-Warn-App: „Warum muss in Deutschland immer alles der Staat anbieten?“\",\n",
        "                  \"Knapp zwei Wochen vor der Landtagswahl in Baden-Württemberg trafen sich Ministerpräsident Kretschmann und seine CDU-Herausforderin Eisenmann zum TV-Duell\"\n",
        "]"
      ],
      "execution_count": null,
      "outputs": []
    },
    {
      "cell_type": "markdown",
      "metadata": {
        "id": "4wUB8u1MmkI-"
      },
      "source": [
        "### Approach 1 : Via local data from MediaWiki API\n",
        "NEs are extracted with spaCy. For now only PER entities are then used for the linking algorithm.\n",
        "For linking the entities, semantic similarity is used: contextual embeddings \n"
      ]
    },
    {
      "cell_type": "code",
      "metadata": {
        "id": "5_KKLI2dkPhK"
      },
      "source": [
        "from datetime import datetime\n",
        "\n",
        "# Get matches of passed named entity in the title column, \n",
        "# create embeddings for matched sentences and output to results\n",
        "def nel_mediawiki(sentence, ne, k=5):\n",
        "  # Find string matches in Wiki article extracts\n",
        "  matched = de_persons_lower.loc[de_persons_lower['title'].str.contains(ne)]\n",
        "  if matched.empty:\n",
        "    return None\n",
        "\n",
        "  # Create embeddings for wiki candidates and input sentence and calculate\n",
        "  # semantics similarity based on cosine distance\n",
        "  wiki_embeddings = model.encode(matched['extract'].tolist(), batch_size=8, \n",
        "                                 convert_to_tensor=True)\n",
        "  sent_embeddings = model.encode(sentence, batch_size=8,\n",
        "                                 convert_to_tensor=True)\n",
        "  cos_scores = util.pytorch_cos_sim(sent_embeddings,wiki_embeddings)[0]\n",
        "  candidates = torch.topk(cos_scores, min(k,matched.count()[0]))\n",
        "\n",
        "  # Collect results with top k candidates\n",
        "\n",
        "  ranking_results = []\n",
        "  print(\"Top matches for entity '{}' in query '{}':\".format(ne, sentence))\n",
        "  for score, index in zip(candidates[0], candidates[1]):\n",
        "    print(\"Score: {:.3f} Person: {}\".format(score,matched['extract'].iloc[int(index)]))\n",
        "    ranking_results.append({\n",
        "        \"candidate_name\" : matched['title'].iloc[int(index)],\n",
        "        \"candidate_pageid\" : matched['pageid'].iloc[int(index)],\n",
        "        \"candidate_score\": \"{:.3f}\".format(score)\n",
        "    })\n",
        "  return ranking_results\n",
        "\n",
        "\n",
        "# Get entities via spaCy. Default type of entities returned is persons\n",
        "# PER Persons\n",
        "# LOC locations\n",
        "# ORG\n",
        "def get_all_nes_mediawiki(sentences, entity_types=['PER']):\n",
        "  docs = list(nlp.pipe(sentences))\n",
        "  entities = []\n",
        "  for doc, sent in zip(docs,sentences):\n",
        "    doc_entities = []\n",
        "    for ent in doc.ents:\n",
        "      if ent.label_ in entity_types:\n",
        "        print(\"Found entity: \" + ent.text + \"_\" + ent.label_)\n",
        "        # Search for full string, normalize whitespaces\n",
        "        full_m = re.sub('\\s+',' ',ent.text.lower())\n",
        "        results = nel_mediawiki(sent, full_m)\n",
        "        if results:\n",
        "          doc_entities.append({\n",
        "              \"entity\" : ent.text,\n",
        "              \"entity_type\" : ent.label_,\n",
        "              \"candidates\" : results\n",
        "          })\n",
        "          continue\n",
        "\n",
        "        # If full match is not found try with partial string matches\n",
        "        partial_matches = ent.text.lower().split()\n",
        "        for m in partial_matches:\n",
        "          results = nel_mediawiki(sent, m)\n",
        "          if results:\n",
        "            doc_entities.append({\n",
        "                \"entity\" : ent.text,\n",
        "                \"entity_type\" : ent.label_,\n",
        "                \"candidates\" : results\n",
        "            })\n",
        "    entities.append({\n",
        "        \"sentence\" : sent,\n",
        "        \"entities\" : doc_entities\n",
        "    })\n",
        "  # Write results to JSON file\n",
        "  with open('query_' + datetime.now().isoformat() + '.json','w', encoding='utf-8') as result_file:\n",
        "    json.dump(entities,result_file, ensure_ascii=False)\n",
        "  return entities"
      ],
      "execution_count": 92,
      "outputs": []
    },
    {
      "cell_type": "code",
      "metadata": {
        "id": "_MLEbr_jQ_uv",
        "colab": {
          "base_uri": "https://localhost:8080/"
        },
        "outputId": "20af68b7-5b85-4f37-f759-db11c43f690a"
      },
      "source": [
        "results = get_all_nes(test_sentences)\n",
        "correct = 0\n",
        "total_entities = 5\n",
        "\n",
        "# Sentence 1: expected Angela Merkel|145\n",
        "if results[0]['entities'][0]['candidates'][0]['candidate_pageid'] == '145':\n",
        "    correct = correct + 1\n",
        "\n",
        "# Sentence 2: expected Hansi Flick|992828; \n",
        "if results[1]['entities'][0]['candidates'][0]['candidate_pageid'] == '992828':\n",
        "    correct += 1\n",
        "\n",
        "#Sentence 3: expected Helge Braun|602284;\n",
        "if results[2]['entities'][0]['candidates'][0]['candidate_pageid'] == '602284':\n",
        "    correct += 1\n",
        "\n",
        "# Sentence 4: expected Winfried Kretschmann|161981\n",
        "if results[3]['entities'][0]['candidates'][0]['candidate_pageid'] == '161981':\n",
        "    correct += 1\n",
        "\n",
        "# Sentence 4: expected Susanne Eisenmann|1223031\n",
        "if results[3]['entities'][1]['candidates'][0]['candidate_pageid'] == '1223031':\n",
        "    correct += 1\n",
        "\n",
        "print(\"Accuracy for correct candidate first: {:.4f}\".format(correct/total_entities))"
      ],
      "execution_count": null,
      "outputs": [
        {
          "output_type": "stream",
          "text": [
            "Found entity: Merkel_PER\n",
            "Top matches for entity 'merkel' in query 'Merkel sprach am Sonntag im Bundeskanzleramt mit ihrem Kabinett über das Vorgehen in der Corona-Krise.':\n",
            "Score: 0.636 Person: Angela Dorothea Merkel (geb. Kasner; * 17. Juli 1954 in Hamburg) ist eine deutsche Politikerin (CDU). Sie ist seit dem 22. November 2005 Bundeskanzlerin der Bundesrepublik Deutschland. Vom 10. April 2000 bis zum 7. Dezember 2018 war sie CDU-Bundesvorsitzende.Merkel wuchs in der DDR auf und war dort als Physikerin am Zentralinstitut für Physikalische Chemie tätig. Bei der Bundestagswahl am 2. Dezember 1990 errang sie erstmals ein Bundestagsmandat. Bei den folgenden sieben Bundestagswahlen wurde sie in ihrem Wahlkreis in Vorpommern direkt gewählt. Von 1991 bis 1994 war Merkel Bundesministerin für Frauen und Jugend im Kabinett Kohl IV und von 1994 bis 1998 Bundesministerin für Umwelt, Naturschutz und Reaktorsicherheit im Kabinett Kohl V. 1998 bis zu ihrer Wahl zur Bundesvorsitzenden der Partei 2000 amtierte sie als Generalsekretärin der CDU.Nach dem knappen Sieg der Unionsparteien bei der vorgezogenen Bundestagswahl 2005 löste Merkel Gerhard Schröder als Bundeskanzler ab und führte zunächst\n",
            "Score: 0.621 Person: Wolfgang Merkel (* 6. Januar 1952 in Hof) ist ein deutscher Politikwissenschaftler.Er ist seit 2004 Direktor der Abteilung Demokratie und Demokratisierung am Wissenschaftszentrum Berlin für Sozialforschung und Professor für Vergleichende Politikwissenschaft und Demokratieforschung an der Humboldt-Universität zu Berlin. Merkel zählt zu den angesehensten Vertretern der Vergleichenden Politikwissenschaft im deutschsprachigen Raum. Er prägte maßgeblich die Forschung zu Demokratisierungsprozessen, Systemwechseln und Systemzusammenbrüchen.\n",
            "Score: 0.596 Person: Paul Wolfgang Merkel (* 1. April 1756 in Nürnberg; † 16. Januar 1820 ebenda) war Kaufmann und Marktvorsteher sowie der erste Abgeordnete der Stadt Nürnberg in der Zweiten Kammer des Bayerischen Landtags 1819.Paul Wolfgang Merkel zählt zu den bedeutendsten Persönlichkeiten Nürnbergs um 1800: Als Kaufmann handelte er mit großem Erfolg, als Politiker setzte er Reformen durch, im Bayerischen Landtag stritt er für den wirtschaftlichen Wiederaufstieg Nürnbergs, als Sammler rettete er zahlreiche Nürnberger Kunstwerke. P. W. Merkel ist eine Schlüsselfigur des Umbruchs um 1800 und des Übergangs Nürnbergs in das Königreich Bayern. Er war Mitglied der Nürnberger Freimaurerloge Zu den drei Pfeilen. Aus seinem reichen wirtschaftlichen und kulturellen Schaffen hinterließ er eine bedeutende Sammlung, die sich heute weitgehend im Fundus des Germanischen Nationalmuseums Nürnberg befindet. Diese Sammlung bildete den Grundstock für die Paul Wolfgang Merkel'sche Familienstiftung. Die Leitung der Stiftung\n",
            "Score: 0.586 Person: Curt-Heinz Merkel (* 22. November 1919 in Hamburg; † 25. Februar 2000 in Berlin) war ein deutscher Politiker (SED). Er war Minister für Handel und Versorgung der DDR.\n",
            "Score: 0.581 Person: Bernd Merkel (* 25. Oktober 1938 in Wirges) ist ein deutscher Zahnmediziner und Admiralarzt a. D.Bernd Merkel wurde 1967 in Frankfurt promoviert. Von 1984 bis 1988 leitete er die Zahnarztgruppe der Marinesanitätsstaffel Wilhelmshaven und war gleichzeitig Beratender Zahnarzt beim Marineabschnittskommando Nordsee. Von 1988 bis 1992 war er Leitender Zahnarzt der Marine im Marineamt (Abteilung Sanitätsdienst). 1992 wurde Merkel als Admiralarzt nach Bonn ins Sanitätsamt der Bundeswehr als Inspizient Zahnmedizin der Bundeswehr versetzt.Bernd Merkel wurde 1988 mit dem Ehrenkreuz der Bundeswehr in Gold, 1992 mit der Otto-Loos-Medaille des „Zahnärztlichen Vereins zu Frankfurt“ und 1996 mit dem Verdienstkreuz am Bande des Verdienstordens der Bundesrepublik Deutschland ausgezeichnet.Bernd Merkel wurde 1996 in den Ruhestand versetzt. Er ist verheiratet und hat drei Söhne. Er lebt in Wangerland-Hohenkirchen.\n",
            "Found entity: Hansi_PER\n",
            "Top matches for entity 'hansi' in query 'Hansi #Flick: „Es ist wichtig, dass man zufrieden ist mit dem 5:1. Den Sieg haben wir auch in der Höhe verdient.\" #MiaSanMia #FCBayern':\n",
            "Score: 0.684 Person: Hans-Dieter „Hansi“ Flick (* 24. Februar 1965 in Heidelberg) ist ein ehemaliger deutscher Fußballspieler und heutiger Fußballtrainer. Er arbeitete acht Jahre lang als Assistent des Bundestrainers Joachim Löw, mit dem er bei der Weltmeisterschaft 2014 in Brasilien Weltmeister wurde. Vom 1. September 2014 bis zum 16. Januar 2017 war er Sportdirektor beim Deutschen Fußball-Bund. Seit dem 4. November 2019 ist Flick Cheftrainer des FC Bayern München, mit dem er 2020 das Triple aus Deutscher Meisterschaft, DFB-Pokal und Champions League sowie den UEFA Super Cup und den DFL-Supercup gewann. Anfang 2021 folgte auch der Titel der Klub-WM.\n",
            "Score: 0.678 Person: Hans Peter „Hansi“ Müller (* 27. Juli 1957 in Stuttgart) ist ein ehemaliger deutscher Fußballspieler und heutiger Fußballfunktionär. Als Spieler war er für den VfB Stuttgart, Inter Mailand, Calcio Como und den FC Swarovski Tirol aktiv. Für Deutschland kam er auf 42 Länderspiele und 5 Tore und gewann die Europameisterschaft 1980. Von 1999 bis 2001 war er Vorstandsmitglied des VfB Stuttgart, seit Juli 2007 ist er dort Ehrenmitglied und war von 2011 bis 2015 Aufsichtsratsmitglied.\n",
            "Score: 0.667 Person: Hans-Jürgen Gnad (* 4. Juni 1963 in Darmstadt) ist ein ehemaliger deutscher Basketballspieler. Nach dem Studium in den Vereinigten Staaten wurde Gnad Profi und mit verschiedenen deutschen Vereinen deutscher Meister sowie mit Mash Verona Sieger des Korać-Cup 1998. Als Nationalspieler nahm Gnad an den Olympischen Spielen 1992 teil und wurde 1993 Europameister.\n",
            "Score: 0.659 Person: Hans Jürgen „Hansi“ Kürsch, (* 10. August 1966 in Lank-Latum, heute Meerbusch) ist ein deutscher Sänger, Songwriter und ehemaliger Bassist. Er ist der Leadsänger der Metal-Band Blind Guardian, die er im Jahr 1984 mitgründete.\n",
            "Score: 0.655 Person: Hansi Burg (* 12. Februar 1898 in Wien; † 14. März 1975 in Garatshausen, eigentlich Wilhelmine Alexandrine Hansi Antoinette Hirschburg) war eine deutsch-österreichische Schauspielerin, die durch ihre Lebenspartnerschaft mit Hans Albers in Erinnerung geblieben ist.\n",
            "Found entity: Kanzleramtschef Braun_PER\n",
            "Top matches for entity 'braun' in query 'Kanzleramtschef Braun (CDU) ein Jahr nach Pandemiebeginn zu Mängeln der Corona-Warn-App: „Warum muss in Deutschland immer alles der Staat anbieten?“':\n",
            "Score: 0.678 Person: Helge Reinhold Braun (* 18. Oktober 1972 in Gießen) ist ein deutscher Politiker (CDU), Arzt und direkt gewählter Bundestagsabgeordneter des Wahlkreises Gießen. Am 14. März 2018 wurde er zum Bundesminister für besondere Aufgaben ernannt und ist seitdem Chef des Bundeskanzleramts. Zuvor war Braun Staatsminister bei der Bundeskanzlerin im Kabinett Merkel III.\n",
            "Score: 0.671 Person: Odilo Braun OP (* 18. November 1899 in Danzig als Leo Stanislaus Braun; † 9. August 1981 in Braunschweig) war ein Dominikanerpater und war von 1941 bis 1945 führendes Mitglied im „Ausschuß für Ordensangelegenheiten“ der Deutschen Bischofskonferenz, einem der bedeutendsten katholischen Widerstandskreise gegen das nationalsozialistische Regime.\n",
            "Score: 0.652 Person: Egidius Braun (* 27. Februar 1925 in Breinig (heute Stadtteil von Stolberg in der Städteregion Aachen)) ist ein ehemaliger deutscher Fußballfunktionär und war von 1992 bis 2001 Präsident des Deutschen Fußball-Bundes. Anschließend wurde er zum Ehrenpräsidenten ernannt. Im selben Jahr gründete der DFB die „DFB-Stiftung Egidius Braun“, die sich unter anderem um notleidende Jugendliche kümmert. Weiterhin wird vom FVM der „Egidius-Braun-Preis“  verliehen.\n",
            "Score: 0.652 Person: Karl Ferdinand Braun (* 6. Juni 1850 in Fulda; † 20. April 1918 in New York) war ein deutscher Physiker, Lehrer, Elektrotechniker und Nobelpreisträger (1909, gemeinsam mit Guglielmo Marconi), der in besonderem Maße daran mitwirkte, die von Heinrich Hertz 1888 experimentell nachgewiesene elektromagnetische Strahlung nachrichtentechnisch nutzbar zu machen.\n",
            "Score: 0.651 Person: Michael Braungart (* 7. Februar 1958 in Schwäbisch Gmünd) ist ein deutscher Verfahrenstechniker und Chemiker. Er entwickelte zusammen mit William McDonough das Cradle-to-Cradle-Konzept. Braungart ist Professor an der Erasmus-Universität Rotterdam und an der Leuphana Universität Lüneburg Professor für Eco-Design, Geschäftsführer der Environmental Protection Encouragement Agency Internationale Umweltforschung GmbH in Hamburg (EPEA) und wissenschaftlicher Leiter des Hamburger Umweltinstituts.\n",
            "Found entity: Kretschmann_PER\n",
            "Top matches for entity 'kretschmann' in query 'Knapp zwei Wochen vor der Landtagswahl in Baden-Württemberg trafen sich Ministerpräsident Kretschmann und seine CDU-Herausforderin Eisenmann zum TV-Duell':\n",
            "Score: 0.753 Person: Winfried Kretschmann (* 17. Mai 1948 in Spaichingen) ist ein deutscher Politiker und Mitglied der Partei Bündnis 90/Die Grünen. Seit dem 12. Mai 2011 ist er neunter Ministerpräsident von Baden-Württemberg und als solcher der erste von den Grünen gestellte Ministerpräsident eines deutschen Bundeslandes. Am 12. Mai 2016 wurde er wiedergewählt. Von 2012 bis 2013 war er Präsident des Bundesrates.\n",
            "Score: 0.664 Person: Kurt Kretschmann (* 2. März 1914 in Berlin; † 20. Januar 2007 in Bad Freienwalde (Oder))  war ein deutscher Naturschützer.Er gilt als „Nestor des Naturschutzes in Ostdeutschland“ und entwarf 1950 das dort seit 1954 rechtsgültige Logo einer schwarzen Waldohreule, die in der Deutschen Demokratischen Republik (DDR) als Sinnbild für Natur- und Landschaftsschutzgebiete sowie für geschützte Parks, Gehölze und Naturdenkmale stand. In der bis heute bekanntesten Form steht die Eule auf einem gelben, fünfeckigen Schild, der nach oben hin spitzwinkelig endete. Diese Ausführung mit einer grafisch überarbeiteten Eule wurde am 1. Juni 1971 in der DDR rechtsgültig.\n",
            "Score: 0.661 Person: Max Kretschmann, auch Max Kretzschmann genannt (* 6. März 1890 in Elberfeld; † 10. Dezember 1972 in Baden-Baden), war ein deutscher Bankier.Der gelernte Bankkaufmann trat 1937 in die NSDAP ein und wurde 1938  Reichsbankdirektor. Kretschmann war Mitglied des Verwaltungsrats der Hauptverwaltung der Reichskreditkassen, die bei der Finanzierung der deutschen Kriegsführung im Zweiten Weltkrieg eine zentrale Rolle spielten.Kretschmann übernahm 1951 die Leitung des traditionsreichen Bankhaus von der Heydt-Kersten & Söhne, dessen persönlich haftender Gesellschafter er war. Im Jahr 1959 wurde er Präsident der Industrie- und Handelskammer Wuppertal. Er übernahm den Vorsitz von seinem Vorgänger Wilhelm Vorwerk. Das Bankhaus und die Handelskammer leitete er bis zum 30. Juni 1964, als Kretschmann in den Ruhestand versetzt wurde. Diesen verbrachte er in Baden-Baden.Für seine Verdienste wurde ihm am 2. Dezember 1963 das Große Verdienstkreuz der Bundesrepublik Deutschland verliehen.\n",
            "Score: 0.645 Person: Friedrich Kretschmann (* 20. Mai 1858 in Wolmirstedt; † 8. November 1934 in Magdeburg) war ein deutscher Hochschullehrer für Hals-Nasen-Ohren-Heilkunde. Er begründete die HNO-Klinik der Otto-von-Guericke-Universität Magdeburg.\n",
            "Score: 0.637 Person: Jochen Kretschmann (* 1932 in Berlin) ist ein deutscher Buchautor.Der pensionierte Lokomotivführer der Deutschen Reichsbahn in der DDR schreibt zu Themen der Eisenbahn. Dabei berichtet er über eigene Erlebnisse auf den Führerständen insbesondere von Dampflokomotiven und stellt die von ihm gefahrenen Baureihen vor.1947 begann er als Lehrling bei der Deutschen Reichsbahn, nach zwei Herzinfarkten wurde er 1988 pensioniert.Zum Schreiben ermutigt wurde er durch den Schriftsteller Michail Scholochow, den er als Mitglied einer Delegation in der Sowjetunion kennenlernte.Hauptgegenstand seiner Erzählungen sind die Erlebnisse mit Kollegen, Vorgesetzten, Soldaten der Roten Armee, örtlichen Funktionären der SED sowie Ereignisse auf seinen Fahrten.Kretschmanns Geschichten sind auch für Nichtfachleute verständlich und geben einen Einblick in die Arbeit bei der Deutschen Reichsbahn.Jochen Kretschmann war auch Mitglied im „Zirkel schreibender Arbeiter“.\n",
            "Found entity: Eisenmann_PER\n",
            "Top matches for entity 'eisenmann' in query 'Knapp zwei Wochen vor der Landtagswahl in Baden-Württemberg trafen sich Ministerpräsident Kretschmann und seine CDU-Herausforderin Eisenmann zum TV-Duell':\n",
            "Score: 0.749 Person: Susanne Eisenmann (* 28. November 1964 in Stuttgart-Bad Cannstatt) ist eine deutsche Politikerin (CDU). Sie war von Juli 2005 bis Mai 2016 Bürgermeisterin für Kultur, Schule und Sport der Landeshauptstadt Stuttgart. Ohne Landtagsmandat wurde sie im Kabinett Kretschmann II die Ministerin für Kultus, Jugend und Sport. Eisenmann ist  Spitzenkandidatin für die CDU bei der baden-württembergischen Landtagswahl 2021 mit Bewerbung im Landtagswahlkreis Stuttgart II (Fildern).\n",
            "Score: 0.644 Person: Hans Eisenmann (* 15. April 1923 in Ampertshausen; † 31. August 1987 in München) war ein deutscher Politiker (CSU). Von 1950 bis zu seinem Tod gehörte er als Abgeordneter dem Bayerischen Landtag an. Ab 1969 amtierte er als Bayerischer Staatsminister für Ernährung, Landwirtschaft und Forsten.\n",
            "Score: 0.636 Person: Otto Eisenmann (* 26. Februar 1913 in Alpirsbach, Württemberg; † 19. Februar 2002 in Oelixdorf) war ein deutscher Politiker (DP, FDP).\n",
            "Score: 0.629 Person: Ernst Eisenmann (* 5. Februar 1928 in Gärtnershof, Rems-Murr-Kreis; † 21. Mai 2016) war ein deutscher Gewerkschafter.\n",
            "Score: 0.592 Person: Johann Gottfried Eisenmann (* 20. Mai 1795 in Würzburg; † 23. März 1867 ebenda) war ein deutscher Arzt, Politiker, politischer Publizist und medizinischer Schriftsteller.\n",
            "Accuracy for correct candidate first: 1.0000\n"
          ],
          "name": "stdout"
        }
      ]
    },
    {
      "cell_type": "markdown",
      "metadata": {
        "id": "JJ3k756f2QS6"
      },
      "source": [
        "### Approach 2: Via Wikipedia search and DBpedia"
      ]
    },
    {
      "cell_type": "code",
      "metadata": {
        "id": "3Fea9SJa8jGo"
      },
      "source": [
        "from datetime import datetime\n",
        "\n",
        "# Get matches of passed named entity in the title column, \n",
        "# create embeddings for matched sentences and output to results\n",
        "def nel_wiki_search(sentence, ne, k=5):\n",
        "  # Find candidates via Wikipedia search and get abstracts for them\n",
        "  candidate_list = get_candidates(ne)\n",
        "\n",
        "  if len(candidate_list['abstracts']) == 0:\n",
        "    return None\n",
        "\n",
        "  # Create embeddings for wiki candidates and input sentence and calculate\n",
        "  # semantics similarity based on cosine distance\n",
        "  wiki_embeddings = model.encode(candidate_list['abstracts'], batch_size=8, \n",
        "                                 convert_to_tensor=True)\n",
        "  sent_embeddings = model.encode(sentence, batch_size=8,\n",
        "                                 convert_to_tensor=True)\n",
        "  cos_scores = util.pytorch_cos_sim(sent_embeddings,wiki_embeddings)[0]\n",
        "  candidates = torch.topk(cos_scores, min(k,len(candidate_list['entities'])))\n",
        "\n",
        "  # Collect results with top k candidates\n",
        "  ranking_results = []\n",
        "  print(\"Top matches for entity '{}' in query '{}':\".format(ne, sentence))\n",
        "  for score, index in zip(candidates[0], candidates[1]):\n",
        "    print(\"Score: {:.3f} Person: {}\".format(score,candidate_list['entities'][int(index)]))\n",
        "    ranking_results.append({\n",
        "        \"candidate_name\" : candidate_list['entities'][int(index)],\n",
        "        \"candidate_abstract\" : candidate_list['abstracts'][int(index)],\n",
        "        \"candidate_score\": \"{:.3f}\".format(score)\n",
        "    })\n",
        "  return ranking_results\n",
        "\n",
        "\n",
        "# Get entities via spaCy. Default type of entities returned is persons\n",
        "# PER Persons\n",
        "# LOC locations\n",
        "# ORG\n",
        "def get_all_nes_wiki_search(sentences, entity_types=['PER']):\n",
        "  docs = list(nlp.pipe(sentences))\n",
        "  entities = []\n",
        "  for doc, sent in zip(docs,sentences):\n",
        "    doc_entities = []\n",
        "    for ent in doc.ents:\n",
        "      if ent.label_ in entity_types:\n",
        "        print(\"Found entity: \" + ent.text + \"_\" + ent.label_)\n",
        "        # Search for full string, normalize whitespaces\n",
        "        full_m = re.sub('\\s+',' ',ent.text.lower())\n",
        "        results = nel_wiki_search(sent, full_m)\n",
        "        if results:\n",
        "          doc_entities.append({\n",
        "              \"entity\" : ent.text,\n",
        "              \"entity_type\" : ent.label_,\n",
        "              \"candidates\" : results\n",
        "          })\n",
        "          #continue\n",
        "\n",
        "        # Try with partial string matches\n",
        "        partial_matches = ent.text.lower().split()\n",
        "        for m in partial_matches:\n",
        "          if m == full_m:\n",
        "            continue\n",
        "          results = nel_wiki_search(sent, m)\n",
        "          if results:\n",
        "            ent_result = {\n",
        "                \"entity\" : ent.text,\n",
        "                \"entity_type\" : ent.label_,\n",
        "                \"candidates\" : results\n",
        "            }\n",
        "            if not ent_result in doc_entities:\n",
        "              doc_entities.append(ent_result)\n",
        "    entities.append({\n",
        "        \"sentence\" : sent,\n",
        "        \"entities\" : doc_entities\n",
        "    })\n",
        "  # Write results to JSON file\n",
        "  with open('query_' + datetime.now().isoformat() + '.json','w', encoding='utf-8') as result_file:\n",
        "    json.dump(entities,result_file, ensure_ascii=False)\n",
        "  return entities"
      ],
      "execution_count": 106,
      "outputs": []
    },
    {
      "cell_type": "code",
      "metadata": {
        "id": "IC21a6hTRXtj",
        "colab": {
          "base_uri": "https://localhost:8080/"
        },
        "outputId": "b442bfa3-8362-4467-bb2a-9bcbe861c51f"
      },
      "source": [
        "get_all_nes(test_sentences)"
      ],
      "execution_count": 107,
      "outputs": [
        {
          "output_type": "stream",
          "text": [
            "Found entity: Merkel_PER\n",
            "Top matches for entity 'merkel' in query 'Merkel sprach am Sonntag im Bundeskanzleramt mit ihrem Kabinett über das Vorgehen in der Corona-Krise.':\n",
            "Score: 0.726 Person: Kabinett Merkel I\n",
            "Score: 0.725 Person: Kabinett Merkel II\n",
            "Score: 0.699 Person: Angela Merkel\n",
            "Score: 0.698 Person: Kabinett Merkel III\n",
            "Score: 0.494 Person: Alexander Merkel\n",
            "Found entity: Hansi_PER\n",
            "Top matches for entity 'hansi' in query 'Hansi #Flick: „Es ist wichtig, dass man zufrieden ist mit dem 5:1. Den Sieg haben wir auch in der Höhe verdient.\" #MiaSanMia #FCBayern':\n",
            "Score: 0.618 Person: Hans Pflügler\n",
            "Found entity: Kanzleramtschef Braun_PER\n",
            "Top matches for entity 'kanzleramtschef braun' in query 'Kanzleramtschef Braun (CDU) ein Jahr nach Pandemiebeginn zu Mängeln der Corona-Warn-App: „Warum muss in Deutschland immer alles der Staat anbieten?“':\n",
            "Score: 0.709 Person: Hans Globke\n",
            "Score: 0.683 Person: Thomas de Maizière\n",
            "Top matches for entity 'kanzleramtschef' in query 'Kanzleramtschef Braun (CDU) ein Jahr nach Pandemiebeginn zu Mängeln der Corona-Warn-App: „Warum muss in Deutschland immer alles der Staat anbieten?“':\n",
            "Score: 0.719 Person: Willy Brandt\n",
            "Score: 0.713 Person: Oskar Lafontaine\n",
            "Score: 0.710 Person: Frank-Walter Steinmeier\n",
            "Score: 0.709 Person: Hans Globke\n",
            "Score: 0.683 Person: Thomas de Maizière\n",
            "Top matches for entity 'braun' in query 'Kanzleramtschef Braun (CDU) ein Jahr nach Pandemiebeginn zu Mängeln der Corona-Warn-App: „Warum muss in Deutschland immer alles der Staat anbieten?“':\n",
            "Score: 0.651 Person: Margrit von Braun\n",
            "Score: 0.645 Person: Helge Braun\n",
            "Score: 0.641 Person: Gretl Braun\n",
            "Score: 0.638 Person: Eva Braun\n",
            "Score: 0.619 Person: Ilse Braun\n",
            "Found entity: Kretschmann_PER\n",
            "Top matches for entity 'kretschmann' in query 'Knapp zwei Wochen vor der Landtagswahl in Baden-Württemberg trafen sich Ministerpräsident Kretschmann und seine CDU-Herausforderin Eisenmann zum TV-Duell':\n",
            "Score: 0.737 Person: Winfried Kretschmann\n",
            "Score: 0.713 Person: Manfred Lucha\n",
            "Score: 0.696 Person: Susanne Eisenmann\n",
            "Score: 0.635 Person: Theodor von Kretschmann\n",
            "Score: 0.627 Person: Marianne von Weizsäcker\n",
            "Found entity: Eisenmann_PER\n",
            "Top matches for entity 'eisenmann' in query 'Knapp zwei Wochen vor der Landtagswahl in Baden-Württemberg trafen sich Ministerpräsident Kretschmann und seine CDU-Herausforderin Eisenmann zum TV-Duell':\n",
            "Score: 0.696 Person: Susanne Eisenmann\n",
            "Score: 0.668 Person: Hans Eisenmann\n",
            "Score: 0.636 Person: Otto Eisenmann\n",
            "Score: 0.596 Person: Will Eisenmann\n",
            "Score: 0.592 Person: Gottfried Eisenmann\n"
          ],
          "name": "stdout"
        },
        {
          "output_type": "execute_result",
          "data": {
            "text/plain": [
              "[{'entities': [{'candidates': [{'candidate_abstract': 'Das Kabinett Merkel I war die vom 22. November 2005 bis zum 28. Oktober 2009 amtierende deutsche Bundesregierung in der 16. Legislaturperiode. Grundlage für die Arbeit dieser Regierung war der Koalitionsvertrag „Gemeinsam für Deutschland. Mit Mut und Menschlichkeit.“',\n",
              "      'candidate_name': 'Kabinett Merkel I',\n",
              "      'candidate_score': '0.726'},\n",
              "     {'candidate_abstract': 'Das Kabinett Merkel II war die vom 28. Oktober 2009, dem Tag ihrer Vereidigung, bis zum 17. Dezember 2013 amtierende deutsche Bundesregierung in der 17. Legislaturperiode. Das Kabinett der schwarz-gelben Koalition aus CDU, CSU und FDP stellte sich am 23. beziehungsweise 24. Oktober 2009 der Öffentlichkeit vor; es war das 22. Kabinett der Bundesrepublik Deutschland. Am 22. Oktober 2013 wurde die Bundesregierung durch Bundespräsident Joachim Gauck entlassen, blieb aber bis zur Ernennung der neuen Regierung geschäftsführend im Amt. Der Koalitionsvertrag trug den Titel Wachstum. Bildung. Zusammenhalt.',\n",
              "      'candidate_name': 'Kabinett Merkel II',\n",
              "      'candidate_score': '0.725'},\n",
              "     {'candidate_abstract': 'Angela Dorothea Merkel (* 17. Juli 1954 in Hamburg als Angela Dorothea Kasner) ist eine deutsche Politikerin (CDU) und seit dem 22. November 2005 Bundeskanzlerin der Bundesrepublik Deutschland. Merkel ist in der DDR aufgewachsen und war dort als Physikerin wissenschaftlich tätig. Bei der Bundestagswahl am 2. Dezember 1990 errang Merkel erstmals ein Bundestagsmandat; in allen darauffolgenden sechs Bundestagswahlen wurde sie in ihrem Wahlkreis in Vorpommern direkt gewählt.Von 1991 bis 1994 war Merkel Bundesministerin für Frauen und Jugend im Kabinett Kohl IV und von 1994 bis 1998 Bundesministerin für Umwelt, Naturschutz und Reaktorsicherheit im Kabinett Kohl V. Von 1998 bis 2000 amtierte sie als Generalsekretärin der CDU und ist seit dem 10. April 2000 deren Bundesvorsitzende. Nach dem knappen Sieg der Unionsparteien bei der vorgezogenen Bundestagswahl 2005 löste Merkel Gerhard Schröder als Bundeskanzler ab und führte eine große Koalition mit der SPD bis 2009 (Kabinett Merkel I). Nach der Bundestagswahl 2009 ging sie mit der FDP eine schwarz-gelbe Koalition ein (Kabinett Merkel II), die durch eine erneute große Koalition in der Folge der Bundestagswahl 2013 abgelöst wurde (Kabinett Merkel III). Im ersten Halbjahr 2007 war Merkel EU-Ratspräsidentin, damit war sie neben EU-Kommissionspräsident José Manuel Barroso die ranghöchste Vertreterin der Europäischen Union.',\n",
              "      'candidate_name': 'Angela Merkel',\n",
              "      'candidate_score': '0.699'},\n",
              "     {'candidate_abstract': 'Mit dem Namen Kabinett Merkel III wird die seit dem 17. Dezember 2013, dem Tag ihrer Vereidigung, amtierende deutsche Bundesregierung in der 18. Legislaturperiode bezeichnet. Die Zusammensetzung des neu gebildeten Kabinetts der großen Koalition aus CDU/CSU und SPD wurde am 15. Dezember 2013 bekanntgegeben. Es ist das 23. Kabinett der Bundesrepublik Deutschland. Der Koalitionsvertrag trägt den Titel Deutschlands Zukunft gestalten. Die geänderten Zuständigkeiten der Ministerien ergeben sich aus dem Organisationserlass der Bundeskanzlerin vom 17. Dezember 2013 (BGBl. I S. 4310). Vor den Bundestagswahlen und während der Koalitionsverhandlungen etablierte sich in der Medien- und Alltagssprache als Abkürzung für Große Koalition der Begriff GroKo, der schließlich zum Wort des Jahres gewählt wurde. vergrößernInteraktiver BildbetrachterAktuelle Bundesregierung im Deutschen Bundestag, 2014 (ohne Peter Altmaier und Heiko Maas)',\n",
              "      'candidate_name': 'Kabinett Merkel III',\n",
              "      'candidate_score': '0.698'},\n",
              "     {'candidate_abstract': 'Alexander Merkel (kasachisch Александр Меркель, * 22. Februar 1992 in Alma-Ata) ist ein kasachisch-deutscher Fußballspieler. Er steht beim VfL Bochum unter Vertrag.',\n",
              "      'candidate_name': 'Alexander Merkel',\n",
              "      'candidate_score': '0.494'}],\n",
              "    'entity': 'Merkel',\n",
              "    'entity_type': 'PER'}],\n",
              "  'sentence': 'Merkel sprach am Sonntag im Bundeskanzleramt mit ihrem Kabinett über das Vorgehen in der Corona-Krise.'},\n",
              " {'entities': [{'candidates': [{'candidate_abstract': 'Johannes Christian Pflügler (* 27. März 1960 in Freising), auch „Hansi“ genannt, ist ein ehemaliger deutscher Fußballspieler.',\n",
              "      'candidate_name': 'Hans Pflügler',\n",
              "      'candidate_score': '0.618'}],\n",
              "    'entity': 'Hansi',\n",
              "    'entity_type': 'PER'}],\n",
              "  'sentence': 'Hansi #Flick: „Es ist wichtig, dass man zufrieden ist mit dem 5:1. Den Sieg haben wir auch in der Höhe verdient.\" #MiaSanMia #FCBayern'},\n",
              " {'entities': [{'candidates': [{'candidate_abstract': 'Hans Josef Maria Globke (* 10. September 1898 in Düsseldorf; † 13. Februar 1973 in Bonn) war Verwaltungsjurist im preußischen und im Reichsinnenministerium sowie Mitverfasser und Kommentator der Nürnberger Rassegesetze in der Zeit des Nationalsozialismus und von 1953 bis 1963 unter Bundeskanzler Konrad Adenauer Chef des Bundeskanzleramts. Globke ist das prominenteste Beispiel für die Kontinuität der Verwaltungseliten vom „Dritten Reich“ zur frühen Bundesrepublik Deutschland. In der Adenauer-Ära war er als „graue Eminenz“ und engster Vertrauter des Kanzlers verantwortlich für Personalpolitik, Kabinettsarbeit, die Einrichtung und Kontrolle von BND und Verfassungsschutz sowie für Fragen der CDU-Parteiführung. Zu seinen Lebzeiten wurde sein Einsatz für die nationalsozialistische Diktatur nur teilweise bekannt. Im In- und Ausland immer wieder scharf angegriffen, wurde er von der Regierung, dem BND und der CIA aber immer geschützt.',\n",
              "      'candidate_name': 'Hans Globke',\n",
              "      'candidate_score': '0.709'},\n",
              "     {'candidate_abstract': 'Karl Ernst Thomas de Maizière [də mɛˈzjɛʁ] (* 21. Januar 1954 in Bonn) ist ein deutscher Politiker (CDU) und seit Dezember 2013 Bundesminister des Innern. Zuvor war er von 1990 bis 1994 Staatssekretär im Kultusministerium von Mecklenburg-Vorpommern sowie von 1994 bis 1998 Leiter der Staatskanzlei unter Berndt Seite. Im Anschluss war er von 1999 bis 2001 Chef der Sächsischen Staatskanzlei, von 2001 bis 2002 Sächsischer Staatsminister der Finanzen, von 2002 bis 2004 Sächsischer Staatsminister der Justiz und von 2004 bis 2005 Sächsischer Staatsminister des Innern. Von 2005 bis 2009 war er Bundesminister für besondere Aufgaben und Chef des Bundeskanzleramtes. Vom 28. Oktober 2009 bis 3. März 2011 war de Maizière Bundesminister des Innern im Kabinett Merkel II. Anschließend war er vom 3. März 2011 bis zu seiner Rückkehr ins Innenministerium am 17. Dezember 2013 Bundesminister der Verteidigung.',\n",
              "      'candidate_name': 'Thomas de Maizière',\n",
              "      'candidate_score': '0.683'}],\n",
              "    'entity': 'Kanzleramtschef Braun',\n",
              "    'entity_type': 'PER'},\n",
              "   {'candidates': [{'candidate_abstract': 'Willy Brandt (* 18. Dezember 1913 in Lübeck mit dem Geburtsnamen Herbert Ernst Karl Frahm; † 8. Oktober 1992 in Unkel), war von 1969 bis 1974 als Regierungschef einer sozialliberalen Koalition von SPD und FDP der vierte Bundeskanzler der Bundesrepublik Deutschland. Zuvor hatte er von 1966 bis 1969 während der ersten Großen Koalition im Kabinett Kiesinger das Amt des Bundesaußenministers und Vizekanzlers ausgeübt. Bis zu seinem Eintritt in die Bundesregierung war er von 1957 an Regierender Bürgermeister von Berlin. Von 1964 bis 1987 war Brandt SPD-Parteivorsitzender und von 1976 bis 1992 Präsident der Sozialistischen Internationale. Unter dem Motto Wandel durch Annäherung gab Brandt spätestens als Bundeskanzler die bis Ende der 1960er Jahre an der Hallstein-Doktrin ausgerichtete Außenpolitik Westdeutschlands auf und leitete mit seiner neuen Ostpolitik eine Zäsur im politisch konfrontativen Klima des Kalten Krieges ein. Mit den Ostverträgen begann er einen Kurs der Entspannung und des Ausgleichs mit der Sowjetunion, der DDR, Polen (vgl. auch Kniefall von Warschau) und den übrigen Ostblockstaaten. Für diese Politik erhielt Brandt 1971 den Friedensnobelpreis.',\n",
              "      'candidate_name': 'Willy Brandt',\n",
              "      'candidate_score': '0.719'},\n",
              "     {'candidate_abstract': \"Oskar Lafontaine [ˌʔɔs.kʰaɐ̯ 'la.fɔn.tʰɛːn] (* 16. September 1943 in Saarlautern-Roden, heute Saarlouis-Roden) ist ein deutscher Politiker und Publizist. Von 1985 bis zum 9. November 1998 war er Ministerpräsident des Saarlandes. Er war Kanzlerkandidat der SPD für die Bundestagswahl am 2. Dezember 1990 (kurz nach der Wiedervereinigung) und von 1995 bis 1999 SPD-Vorsitzender. Nach der Bundestagswahl im September 1998 – Gerhard Schröder wurde Bundeskanzler – übernahm er im Kabinett Schröder I das Bundesministerium der Finanzen. Im März 1999 legte er überraschend alle politischen Ämter – auch sein Bundestagsmandat – nieder und trat fortan als Kritiker des rot-grünen Regierungskurses von Gerhard Schröder auf. 2005 wechselte Lafontaine von der SPD zur neu gegründeten Wahlalternative Arbeit & soziale Gerechtigkeit (WASG). Diese ging durch seine Initiative im Juni 2005 ein Wahlbündnis mit der PDS ein, die sich dafür in Die Linkspartei.PDS umbenannte. Von 2005 bis 2009 war Lafontaine mit Gregor Gysi Fraktionsvorsitzender der Linksfraktion im Deutschen Bundestag. Vom 16. Juni 2007 bis zum 15. Mai 2010 war er neben Lothar Bisky Parteivorsitzender der neugebildeten Partei Die Linke. Sein Rückzug von beiden politischen Ämtern erfolgte aufgrund einer am 17. November 2009 bekannt gewordenen Krebserkrankung. Seit September 2009 führt er die Fraktion der Linken im saarländischen Landtag. Bei der Landtagswahl im Saarland im März 2012 trat Lafontaine erneut als Spitzenkandidat seiner Partei an und ist seit dem Amtsantritt des zweiten Kabinetts Kramp-Karrenbauer am 9. Mai 2012 Oppositionsführer.\",\n",
              "      'candidate_name': 'Oskar Lafontaine',\n",
              "      'candidate_score': '0.713'},\n",
              "     {'candidate_abstract': 'Frank-Walter Steinmeier (* 5. Januar 1956 in Detmold) ist ein deutscher Politiker der SPD. Er ist seit dem 17. Dezember 2013 zum zweiten Mal Bundesminister des Auswärtigen – dieses Amt übte er bereits von 2005 bis 2009 aus. Von 1999 bis 2005 hatte Steinmeier als Chef des Bundeskanzleramtes unter Gerhard Schröder amtiert. Neben seiner Tätigkeit als Bundesminister des Auswärtigen in den Jahren 2005 bis 2009 war er von 2007 bis 2009 auch Vizekanzler der Bundesrepublik Deutschland. Im Oktober 2008 wurde Steinmeier außerdem zum SPD-Kanzlerkandidaten für die Bundestagswahl 2009 nominiert. Bei der Wahl unterlag seine Partei der von Amtsinhaberin Angela Merkel geführten CDU.',\n",
              "      'candidate_name': 'Frank-Walter Steinmeier',\n",
              "      'candidate_score': '0.710'},\n",
              "     {'candidate_abstract': 'Hans Josef Maria Globke (* 10. September 1898 in Düsseldorf; † 13. Februar 1973 in Bonn) war Verwaltungsjurist im preußischen und im Reichsinnenministerium sowie Mitverfasser und Kommentator der Nürnberger Rassegesetze in der Zeit des Nationalsozialismus und von 1953 bis 1963 unter Bundeskanzler Konrad Adenauer Chef des Bundeskanzleramts. Globke ist das prominenteste Beispiel für die Kontinuität der Verwaltungseliten vom „Dritten Reich“ zur frühen Bundesrepublik Deutschland. In der Adenauer-Ära war er als „graue Eminenz“ und engster Vertrauter des Kanzlers verantwortlich für Personalpolitik, Kabinettsarbeit, die Einrichtung und Kontrolle von BND und Verfassungsschutz sowie für Fragen der CDU-Parteiführung. Zu seinen Lebzeiten wurde sein Einsatz für die nationalsozialistische Diktatur nur teilweise bekannt. Im In- und Ausland immer wieder scharf angegriffen, wurde er von der Regierung, dem BND und der CIA aber immer geschützt.',\n",
              "      'candidate_name': 'Hans Globke',\n",
              "      'candidate_score': '0.709'},\n",
              "     {'candidate_abstract': 'Karl Ernst Thomas de Maizière [də mɛˈzjɛʁ] (* 21. Januar 1954 in Bonn) ist ein deutscher Politiker (CDU) und seit Dezember 2013 Bundesminister des Innern. Zuvor war er von 1990 bis 1994 Staatssekretär im Kultusministerium von Mecklenburg-Vorpommern sowie von 1994 bis 1998 Leiter der Staatskanzlei unter Berndt Seite. Im Anschluss war er von 1999 bis 2001 Chef der Sächsischen Staatskanzlei, von 2001 bis 2002 Sächsischer Staatsminister der Finanzen, von 2002 bis 2004 Sächsischer Staatsminister der Justiz und von 2004 bis 2005 Sächsischer Staatsminister des Innern. Von 2005 bis 2009 war er Bundesminister für besondere Aufgaben und Chef des Bundeskanzleramtes. Vom 28. Oktober 2009 bis 3. März 2011 war de Maizière Bundesminister des Innern im Kabinett Merkel II. Anschließend war er vom 3. März 2011 bis zu seiner Rückkehr ins Innenministerium am 17. Dezember 2013 Bundesminister der Verteidigung.',\n",
              "      'candidate_name': 'Thomas de Maizière',\n",
              "      'candidate_score': '0.683'}],\n",
              "    'entity': 'Kanzleramtschef Braun',\n",
              "    'entity_type': 'PER'},\n",
              "   {'candidates': [{'candidate_abstract': 'Margrit Cecile von Braun (* 8. Mai 1952), die zweite Tochter von Wernher von Braun und seiner Frau Maria (geborene von Quistorp), ist eine US-amerikanische Wissenschaftlerin und Professorin mit Fachgebiet Umweltwissenschaften. Bis zu ihrer Pensionierung war sie an der University of Idaho tätig. Ihre Ausbildung absolvierte sie am Oberlin College, University of California, Los Angeles und Georgia Institute of Technology mit einem Abschluss in Biotechnologie. Anlässlich des 100. Geburtstags ihres Vaters hielt sie am 23. März 2012 eine Rede mit \"ausschließlich warmen Erinnerungen\" (\"nothing but warm memories\") in Huntsville, Alabama.',\n",
              "      'candidate_name': 'Margrit von Braun',\n",
              "      'candidate_score': '0.651'},\n",
              "     {'candidate_abstract': 'Helge Reinhold Braun (* 18. Oktober 1972 in Gießen) ist ein deutscher Politiker der CDU, direkt gewählter Bundestagsabgeordneter des Wahlkreises Gießen und Staatsminister bei der Bundeskanzlerin.',\n",
              "      'candidate_name': 'Helge Braun',\n",
              "      'candidate_score': '0.645'},\n",
              "     {'candidate_abstract': 'Margarete Berta „Gretl“ Braun (* 31. August 1915 in München; † 10. Oktober 1987 in Steingaden) war neben Ilse Braun eine der beiden Schwestern von Eva Braun. Sie gehörte dem inneren Kreis von Adolf Hitler auf dem Berghof an. Braun heiratete am 3. Juni 1944 SS-Gruppenführer Hermann Fegelein, den Verbindungsoffizier der Waffen-SS zum Führerhauptquartier. Gretl wurde nach der Eheschließung Hitlers und ihrer Schwester Eva dessen Schwägerin, kurz bevor das Paar gemeinsam Selbstmord beging.',\n",
              "      'candidate_name': 'Gretl Braun',\n",
              "      'candidate_score': '0.641'},\n",
              "     {'candidate_abstract': 'Eva Anna Paula Braun (* 6. Februar 1912 in München; † 30. April 1945 in Berlin als am 29. April 1945 verheiratete Eva Hitler) war, wahrscheinlich seit 1932, die der Öffentlichkeit verheimlichte Geliebte Adolf Hitlers. Beide heirateten einen Tag vor dem gemeinsamen Suizid im umkämpften Berlin, kurz vor der bedingungslosen Kapitulation der Wehrmacht im Zweiten Weltkrieg.',\n",
              "      'candidate_name': 'Eva Braun',\n",
              "      'candidate_score': '0.638'},\n",
              "     {'candidate_abstract': 'Ilse Braun (* 1908 in München; † 1979 ebenda) war neben Gretl Braun eine der beiden Schwestern von Eva Braun. Ilse wurde nach der Eheschließung Hitlers und ihrer Schwester Eva dessen Schwägerin, kurz bevor das Paar gemeinsam Suizid beging.',\n",
              "      'candidate_name': 'Ilse Braun',\n",
              "      'candidate_score': '0.619'}],\n",
              "    'entity': 'Kanzleramtschef Braun',\n",
              "    'entity_type': 'PER'}],\n",
              "  'sentence': 'Kanzleramtschef Braun (CDU) ein Jahr nach Pandemiebeginn zu Mängeln der Corona-Warn-App: „Warum muss in Deutschland immer alles der Staat anbieten?“'},\n",
              " {'entities': [{'candidates': [{'candidate_abstract': 'Winfried Kretschmann (* 17. Mai 1948 in Spaichingen) ist ein deutscher Politiker und Mitglied der Partei Bündnis 90/Die Grünen. Seit dem 12. Mai 2011 ist er neunter Ministerpräsident von Baden-Württemberg und als solcher der erste von den Grünen gestellte Ministerpräsident eines deutschen Bundeslandes. Am 12. Mai 2016 wurde er als Ministerpräsident wiedergewählt.',\n",
              "      'candidate_name': 'Winfried Kretschmann',\n",
              "      'candidate_score': '0.737'},\n",
              "     {'candidate_abstract': 'Manfred „Manne“ Lucha (* 13. März 1961 in Garching an der Alz) ist ein deutscher Politiker (Bündnis 90/Die Grünen) und Abgeordneter im Landtag von Baden-Württemberg für den Wahlkreis Ravensburg. Seit dem 12. Mai 2016 ist er Minister für Soziales und Integration im Kabinett Kretschmann II.',\n",
              "      'candidate_name': 'Manfred Lucha',\n",
              "      'candidate_score': '0.713'},\n",
              "     {'candidate_abstract': 'Susanne Eisenmann (* 28. November 1964 in Stuttgart-Bad Cannstatt) ist eine deutsche Politikerin (CDU). Sie war vom 1. Juli 2005 bis zum 10. Mai 2016 Bürgermeisterin für Kultur, Schule und Sport der Landeshauptstadt Stuttgart. Im Kabinett Kretschmann II ist sie Ministerin für Kultus, Jugend und Sport.',\n",
              "      'candidate_name': 'Susanne Eisenmann',\n",
              "      'candidate_score': '0.696'},\n",
              "     {'candidate_abstract': 'Theodor Konrad Kretschmann, seit 1801 von Kretschmann, (* 8. November 1762 in Bayreuth; † 15. Januar 1820 in Kassel) war ein deutscher Politiker, Jurist und Publizist. Als dirigierender Minister stand er bis 1808 an der Spitze der Verwaltung des Herzogtums Sachsen-Coburg-Saalfeld; 1816 war er kurzzeitig unumschränkter Regierungschef des Fürstentums Wittgenstein.',\n",
              "      'candidate_name': 'Theodor von Kretschmann',\n",
              "      'candidate_score': '0.635'},\n",
              "     {'candidate_abstract': 'Marianne Freifrau von Weizsäcker, geborene von Kretschmann (* 17. Mai 1932 in Essen) ist die Witwe des sechsten deutschen Bundespräsidenten Richard von Weizsäcker.',\n",
              "      'candidate_name': 'Marianne von Weizsäcker',\n",
              "      'candidate_score': '0.627'}],\n",
              "    'entity': 'Kretschmann',\n",
              "    'entity_type': 'PER'},\n",
              "   {'candidates': [{'candidate_abstract': 'Susanne Eisenmann (* 28. November 1964 in Stuttgart-Bad Cannstatt) ist eine deutsche Politikerin (CDU). Sie war vom 1. Juli 2005 bis zum 10. Mai 2016 Bürgermeisterin für Kultur, Schule und Sport der Landeshauptstadt Stuttgart. Im Kabinett Kretschmann II ist sie Ministerin für Kultus, Jugend und Sport.',\n",
              "      'candidate_name': 'Susanne Eisenmann',\n",
              "      'candidate_score': '0.696'},\n",
              "     {'candidate_abstract': 'Hans Eisenmann (* 15. April 1923 in Ampertshausen bei Pfaffenhofen an der Ilm; † 31. August 1987 in München) war ein deutscher Politiker der CSU und von 1969 bis zu seinem Tod Bayerischer Staatsminister für Landwirtschaft und Forsten, ab 1970  Staatsminister für Ernährung, Landwirtschaft und Forsten.',\n",
              "      'candidate_name': 'Hans Eisenmann',\n",
              "      'candidate_score': '0.668'},\n",
              "     {'candidate_abstract': 'Otto Eisenmann (* 26. Februar 1913 in Alpirsbach, Württemberg; † 19. Februar 2002 in Oelixdorf) war ein deutscher Politiker (DP, FDP).',\n",
              "      'candidate_name': 'Otto Eisenmann',\n",
              "      'candidate_score': '0.636'},\n",
              "     {'candidate_abstract': 'Will Eisenmann (* 3. März 1906 in Stuttgart; † 20. August 1992 in Schwarzenberg LU) war ein aus Deutschland stammender, in der Schweiz lebender, aber staatenloser Komponist.',\n",
              "      'candidate_name': 'Will Eisenmann',\n",
              "      'candidate_score': '0.596'},\n",
              "     {'candidate_abstract': 'Johann Gottfried Eisenmann (* 20. Mai 1795 in Würzburg; † 23. März 1867 ebenda) war ein deutscher Arzt, Politiker, politischer Publizist und medizinischer Schriftsteller.',\n",
              "      'candidate_name': 'Gottfried Eisenmann',\n",
              "      'candidate_score': '0.592'}],\n",
              "    'entity': 'Eisenmann',\n",
              "    'entity_type': 'PER'}],\n",
              "  'sentence': 'Knapp zwei Wochen vor der Landtagswahl in Baden-Württemberg trafen sich Ministerpräsident Kretschmann und seine CDU-Herausforderin Eisenmann zum TV-Duell'}]"
            ]
          },
          "metadata": {
            "tags": []
          },
          "execution_count": 107
        }
      ]
    },
    {
      "cell_type": "markdown",
      "metadata": {
        "id": "zniLjOrF5nS4"
      },
      "source": [
        "### Test with News API\n",
        "Do some test queries from German news headlines"
      ]
    },
    {
      "cell_type": "code",
      "metadata": {
        "id": "KEYaXsiG7stS"
      },
      "source": [
        "news_session = requests.Session()\n",
        "news_url = 'https://newsapi.org/v2/everything'\n",
        "\n",
        "# Simple session-based cache for already made requests depending on parameters\n",
        "cached_requests = {}"
      ],
      "execution_count": 101,
      "outputs": []
    },
    {
      "cell_type": "code",
      "metadata": {
        "id": "HWA-q-od1Iir"
      },
      "source": [
        "import json\n",
        "def get_news_articles_json(news_query):\n",
        "  news_params = {\n",
        "    'apiKey' : '2a2998bc466248bf9d93f6b20668a822',\n",
        "    'q' : news_query,\n",
        "    'language' : 'de',\n",
        "    'sortBy': 'popularity',\n",
        "    'pageSize': 10,\n",
        "  }\n",
        "  json_params = json.dumps(news_params)\n",
        "  if json_params in cached_requests:\n",
        "    print('INFO: Returning cached request')\n",
        "    return cached_requests[json_params]\n",
        "\n",
        "  response = news_session.get(url=news_url, params=news_params)\n",
        "  cached_requests[json_params] = response.json()\n",
        "  return response.json()"
      ],
      "execution_count": 111,
      "outputs": []
    },
    {
      "cell_type": "code",
      "metadata": {
        "colab": {
          "base_uri": "https://localhost:8080/"
        },
        "id": "Mt-81ekN8J8J",
        "outputId": "51e51e75-7e53-4702-f8e5-a614094555b1"
      },
      "source": [
        "articles = get_news_articles_json('Deutschland')\n",
        "\n",
        "news_sentences = [desc['description'] for desc in articles['articles']]\n",
        "get_all_nes_wiki_search(news_sentences)"
      ],
      "execution_count": 110,
      "outputs": [
        {
          "output_type": "stream",
          "text": [
            "INFO: Returning cached request\n"
          ],
          "name": "stdout"
        },
        {
          "output_type": "execute_result",
          "data": {
            "text/plain": [
              "['In Deutschland produzierte Serien sind weltweit gefragt. Eine Bundesförderung von bis zu 10 Millionen Euro soll mehr Produktionen nach Deutschland locken.',\n",
              " 'In der aktuellen Wirtschaftskrise horten die Bürger Rekordsummen, doch einen baldigen einen Konsumboom erwartet niemand – auch nicht nach der Pandemie.',\n",
              " 'Anders als sein Vorgänger Donald Trump will US-Präsident Joe Biden seine Truppen hierzulande verstärken, auch mit Spezialisten für elektronische Kriegsführung.',\n",
              " 'Surfen, streamen, spielen: In der Pandemie nutzen die Menschen das Internet deutlich intensiver. Das zeigt sich am Datenvolumen – beim Festnetz und mobil.',\n",
              " 'Wie sich Manganknollen in der Tiefsee abbauen lassen, untersucht die Bundesanstalt für Geowissenschaften in einem Forschungsprojekt. Umweltschützer warnen.',\n",
              " 'Amazon bietet das Smart Display Echo Show 10 nun auch in Deutschland an. Neu ist eine Funktion, mit der sich das Zuhause auf dem Handy überwachen lässt.',\n",
              " \"c't-Chefredakteur Dr. Jürgen Rink spricht mit Dr. Paul-Josef Patt über Wagniskapital, disruptive Innovationen: Wie steht's um Tech-Investitionen in Deutschland?\",\n",
              " 'Gigaset zeigt mit dem GS4, dass es durchaus möglich ist, Smartphones mit wechselbarem Akku zu bauen, die auch noch gut aussehen – und gar nicht teuer sind.',\n",
              " 'Am 28. März ist wieder Zeitumstellung. Das Drehen an der Uhr hält 72 Prozent der Menschen in Deutschland für überflüssig, ergab eine Forsa-Umfrage.',\n",
              " 'Dr. Jürgen Rink spricht mit Schulleiter Björn Lengwenus, der in der Coronakrise einiges anders macht und mit seinem Youtube-Channel die Goldene Kamera gewann.',\n",
              " 'Die Deutsche Telekom kommt Vodafone zuvor: Die AR-Brille Nreal Light soll noch am MIttwoch in die Vorbestellung gehen.',\n",
              " 'Amazon benötigt in Deutschland mehr neue Mitarbeiter. Noch in diesem Jahr sollen sie im Versand, im Marketing, Finanzwesen, Forschung und Entwicklung arbeiten.',\n",
              " 'Ein neuer Spotbeam versorgt jetzt auch die letzte Ecke Deutschlands mit bis zu 100 MBit/s im Download.',\n",
              " 'Das von der EU geplante \"digitale grüne Zertifikat\" wird laut dem Bundesgesundheitsministerium bald in Deutschland verfügbar sein – ohne Blockchains.',\n",
              " 'Android TV in 4K-Auflösung zeigt das neue Topmodell des chinesischen Herstellers XGIMI. Ab Mai ist es in Deutschland erhältlich.',\n",
              " 'Apple hat mehr iCloud-Inhalte an Behörden herausgegeben, Ende-zu-Ende-Verschlüsselung fehlt weiter. Deutschland ließ erstmals eine App entfernen.',\n",
              " 'Die EZB hat eine umfassende Auswertung ihrer Konsultation zu einem digitalen Euro veröffentlicht. Die meisten Rückmeldungen kamen aus Deutschland.',\n",
              " 'Im Sommer 2020 ist das Corona-Infektionsgeschehen in Deutschland zurückgegangen. Die WMO sieht keinen direkten Zusammenhang mit Wetter und Jahreszeit erwiesen.',\n",
              " 'Im zweiten Quartal sollen zwar mehr als 70 Millionen Impfdosen in Deutschland ankommen, sämtliche Prognosen sind aber noch mit Unsicherheiten behaftet.',\n",
              " 'In Deutschland ist vor allem auf dem Land der Mobilfunkempfang oft schlecht, das soll sich ändern. Ziele der Bundesregierung aber könnten verfehlt werden.',\n",
              " 'Amazon hat in den USA die zweite Generation seiner In-Ear-Kopfhörer Echo Buds vorgestellt. Nach Deutschland kommen die Echo Buds 2 wohl erst einmal nicht.',\n",
              " 'OnePlus hat seine erste Smartwatch vorgestellt, die in Deutschland ab 160 Euro zu haben sein wird. Sie läuft mit einem eigenen Betriebssystem.',\n",
              " 'Seit rund 12 Monaten ist das Schulleben in Deutschland durch die Pandemie auf den Kopf gestellt. Was hat sich verändert – was ist geplant? Eine Artikelserie.',\n",
              " 'Elf Männer flogen bisher aus Deutschland ins All – aber keine Frau. Alexander Gerst will das ändern. Der Astronaut wirbt um Nachwuchs für Europas Raumfahrt.',\n",
              " 'Die Xiaomi-Tochter Poco bringt zwei neue Android-Smartphones nach Deutschland. 5G und ein OLED-Display besitzt aber nur eines der beiden Handys.',\n",
              " 'Sony startet in Deutschland einen auf Hörspiele spezialisierten Streaming-Dienst. Für 6 Euro im Monat gibt es unter anderem \"Die drei ???\" und das Sandmännchen.',\n",
              " 'Immer mehr Menschen nutzen das Internet oder Apps für Bankgeschäfte. 2020 hat sich dieser Trend nochmals beschleunigt, auch weil es weniger Bankfilialen gibt.',\n",
              " 'Die Pandemie habe das Einkaufsverhalten nachhaltig verändert, sagt die Geschäftsleitung, und dünnt das Filialnetz aus.',\n",
              " 'Nach knapp fünf Monaten Pause wegen der Coronavirus-Pandemie sind die grünen Busse wieder auf Fahrt.',\n",
              " 'Die laufenden Verfahren zwischen Nokia und Lenovo sind beendet. Beide Unternehmen haben sich auf ein mehrjähriges Patentabkommen geeinigt.',\n",
              " 'Im westfälischen Gronau reichert Urenco Uran an. Das wollen die Grünen stoppen. Nun hat sich das Unternehmen dazu geäußert.',\n",
              " 'Einer Umfrage zufolge stiegen Bedenken bezüglich Lademöglichkeiten und Batteriesicherheit, zudem belaste die Covid-19-Krise die Zahlungsbereitschaft.',\n",
              " 'Amazon Prime Video zeigt einen offiziellen Teaser der zweiten Staffel von Star Trek: Picard. John de Lancie ist als Q mit an Bord.',\n",
              " 'Laut CERT Bund läuft eine Mining-Schadsoftware auf \"mindestens 600 Exchange-Servern\". Administratoren sollten auch bereits gepatchte Maschinen checken.',\n",
              " 'Drahtesel sind in der Pandemie äußerst beliebt. Dabei werden immer häufiger bequeme Akkuräder gekauft, wie unsere Infografik zeigt.',\n",
              " 'Flixbus startet den Vorverkauf für Fahrten innerhalb Deutschlands. Ab Sommer sollen auch Flixtrain-Züge wieder fahren.',\n",
              " 'Einen E-Stehroller-Unfall baut typischerweise ein jüngerer betrunkener Mensch, der von sich aus schnell fahrend die Kontrolle verliert, ließe sich konstruieren.',\n",
              " '63 Prozent von 10.000 Menschen in europäischen Städten sind für ein Verbrenner-Verbot am 2030. In deutschen Städten ist die Mehrheit knapper.',\n",
              " 'Unser werktäglicher News-Überblick fasst die wichtigsten Nachrichten des Tages kurz und knapp zusammen.',\n",
              " 'Vier Pkw-Reifen der Marken Continental und General Tire könnten von einem Produktionsfehler betroffen sein. Sie sollen zur Sicherheit kostenfrei ersetzt werden.',\n",
              " 'In Corona-Zeiten sind Videosprechstunden bei Ärzten gefragt. Nur rund 17 Prozent der Praxen bieten sie an. Das Potenzial ist hoch. Aber es gibt auch Kritik.',\n",
              " 'Ärzten fehlt es noch immer an wirksamen Medikamenten gegen Corona. Dabei wird intensiv an Arzneimitteln geforscht. Ein Überblick zu Hoffnungsträgern und Flops.',\n",
              " '\\u200bDer Kölner Provider erweitert die Länderabdeckung bei NB-IoT um wichtige europäische Länder wie die Niederlande oder Großbritannien.\\u200b',\n",
              " 'Microsoft hat neue Gadgets fürs Home-Office angekündigt. Dazu gehört eine Webcam und ein kleiner USB-C-Lautsprecher.',\n",
              " 'Einer Umfrage von Infratest dimap hat ergeben, dass eine Mehrheit junger Menschen bereits Fake News, Hassrede und Mobbing in Chats ausgesetzt war.',\n",
              " 'Netzbetreiber kritisieren, dass die Frequenzauktion auch im neuen TKG das bevorzugte Verfahren sein soll. Ein Gutachten wirft europarechtliche Fragen auf.\\u200b',\n",
              " 'Laut neuem Breitbandatlas haben insgesamt 59 Prozent der Haushalte Zugang zu superschnellem Internet mit 1 GBit/s. In den Großstädten sind es über 90 Prozent.',\n",
              " '\"Archaische\" Zustände und \"Organisationsversagen\": Ein Gutachten von Regierungsberatern prangert den Rückstand Deutschlands bei der Digitalisierung an.',\n",
              " 'Cisco hat seine Hausmessen in einer einzigen virtuellen Veranstaltung zusammengefasst. Man setzt künftig voll auf Cloud und Mietmodelle.',\n",
              " 'Wie überall deckt Corona auch die Schwachstellen in Unternehmensnetzen auf. Die Betroffenen geloben Besserung.']"
            ]
          },
          "metadata": {
            "tags": []
          },
          "execution_count": 110
        }
      ]
    },
    {
      "cell_type": "markdown",
      "metadata": {
        "id": "8cdOsiICPfeD"
      },
      "source": [
        "## Further Approaches\n",
        "End-to-end entitiy linking via embeddings of mentions and entities + probabilistic mapping of mentions to entities: [Kolsitas (2018)](https://github.com/dalab/end2end_neural_el)\n",
        "\n",
        "Candidate selection by ANN indexes from a DB then ranking with a BERT classifier trained on sentences pairs with either same or different entities: [Labusch & Neudecker (2020)](https://github.com/qurator-spk/sbb_ned)\n",
        "- high precision but tradeoff in recall\n",
        "\n"
      ]
    }
  ]
}