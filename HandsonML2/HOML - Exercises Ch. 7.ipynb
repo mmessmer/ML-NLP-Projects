{
 "cells": [
  {
   "cell_type": "code",
   "execution_count": 1,
   "metadata": {},
   "outputs": [],
   "source": [
    "# Python ≥3.5 is required\n",
    "import sys\n",
    "assert sys.version_info >= (3, 5)\n",
    "\n",
    "# Scikit-Learn ≥0.20 is required\n",
    "import sklearn\n",
    "assert sklearn.__version__ >= \"0.20\"\n",
    "\n",
    "# Common imports\n",
    "import numpy as np\n",
    "import os\n",
    "\n",
    "# to make this notebook's output stable across runs\n",
    "np.random.seed(42)\n",
    "\n",
    "# To plot pretty figures\n",
    "%matplotlib inline\n",
    "import matplotlib as mpl\n",
    "import matplotlib.pyplot as plt\n",
    "mpl.rc('axes', labelsize=14)\n",
    "mpl.rc('xtick', labelsize=12)\n",
    "mpl.rc('ytick', labelsize=12)\n",
    "\n",
    "# Where to save the figures\n",
    "PROJECT_ROOT_DIR = \".\"\n",
    "CHAPTER_ID = \"ensembles\"\n",
    "IMAGES_PATH = os.path.join(PROJECT_ROOT_DIR, \"images\", CHAPTER_ID)\n",
    "os.makedirs(IMAGES_PATH, exist_ok=True)\n",
    "\n",
    "def save_fig(fig_id, tight_layout=True, fig_extension=\"png\", resolution=300):\n",
    "    path = os.path.join(IMAGES_PATH, fig_id + \".\" + fig_extension)\n",
    "    print(\"Saving figure\", fig_id)\n",
    "    if tight_layout:\n",
    "        plt.tight_layout()\n",
    "    plt.savefig(path, format=fig_extension, dpi=resolution)"
   ]
  },
  {
   "cell_type": "markdown",
   "metadata": {},
   "source": [
    "Fetching MNIST dataset"
   ]
  },
  {
   "cell_type": "code",
   "execution_count": 2,
   "metadata": {},
   "outputs": [],
   "source": [
    "from sklearn.datasets import fetch_openml\n",
    "mnist = fetch_openml('mnist_784', version=1)"
   ]
  },
  {
   "cell_type": "code",
   "execution_count": 3,
   "metadata": {},
   "outputs": [],
   "source": [
    "X = mnist['data']\n",
    "y = mnist['target'].T"
   ]
  },
  {
   "cell_type": "code",
   "execution_count": 4,
   "metadata": {},
   "outputs": [],
   "source": [
    "from sklearn.model_selection import train_test_split\n",
    "\n",
    "\n",
    "X_train_dev, X_test, y_train_dev, y_test = train_test_split(X, y, train_size=60000, stratify=y, random_state=13)\n",
    "X_train, X_dev, y_train, y_dev = train_test_split(X_train_dev, y_train_dev, train_size=50000, stratify=y_train_dev, random_state=13)"
   ]
  },
  {
   "cell_type": "code",
   "execution_count": 41,
   "metadata": {},
   "outputs": [],
   "source": [
    "from sklearn.svm import SVC\n",
    "from sklearn.ensemble import RandomForestClassifier\n",
    "from sklearn.ensemble import ExtraTreesClassifier\n",
    "\n",
    "svc = SVC(C=0.01, kernel='poly', gamma='auto', verbose=3)\n",
    "rfc = RandomForestClassifier(max_depth= 500, n_estimators= 100, verbose=3)\n",
    "etc = ExtraTreesClassifier(max_depth= 50, n_estimators= 100, verbose=3)"
   ]
  },
  {
   "cell_type": "code",
   "execution_count": null,
   "metadata": {},
   "outputs": [
    {
     "name": "stdout",
     "output_type": "stream",
     "text": [
      "[LibSVM]"
     ]
    }
   ],
   "source": [
    "from sklearn.ensemble import VotingClassifier\n",
    "\n",
    "hard_vote = VotingClassifier(estimators=[('svc',svc),('rfc',rfc),('etc',etc)], voting='hard')\n",
    "hard_vote.fit(X_train, y_train)"
   ]
  },
  {
   "cell_type": "markdown",
   "metadata": {},
   "source": [
    "# Single Classifier performance"
   ]
  },
  {
   "cell_type": "code",
   "execution_count": null,
   "metadata": {},
   "outputs": [],
   "source": [
    "svc = SVC(C=0.01, kernel='poly', gamma='auto')\n",
    "rfc = RandomForestClassifier(max_depth= 500, n_estimators= 100)\n",
    "etc = ExtraTreesClassifier(max_depth= 50, n_estimators= 100)"
   ]
  },
  {
   "cell_type": "code",
   "execution_count": 25,
   "metadata": {},
   "outputs": [
    {
     "name": "stderr",
     "output_type": "stream",
     "text": [
      "[Parallel(n_jobs=3)]: Using backend LokyBackend with 3 concurrent workers.\n",
      "[Parallel(n_jobs=3)]: Done   2 out of   5 | elapsed:  6.1min remaining:  9.1min\n",
      "[Parallel(n_jobs=3)]: Done   5 out of   5 | elapsed: 11.3min finished\n"
     ]
    }
   ],
   "source": [
    "from sklearn.model_selection import GridSearchCV\n",
    "from sklearn.model_selection import cross_val_score\n",
    "\n",
    "sv_params = {\n",
    "    'C': 0.01,\n",
    "    'kernel': 'poly',\n",
    "    'gamma': 'auto'\n",
    "}\n",
    "\n",
    "#sv_search = GridSearchCV(svc, sv_params, scoring='explained_variance', verbose=5, n_jobs=-1)\n",
    "#sv_search.fit(X_train, y_train)\n",
    "sv_scores = cross_val_score(svc, X_train, y_train, scoring='accuracy', verbose=5, n_jobs=3)"
   ]
  },
  {
   "cell_type": "code",
   "execution_count": 10,
   "metadata": {},
   "outputs": [
    {
     "data": {
      "text/plain": [
       "array([0.94311025, 0.94261558, 0.94398849, 0.94472696, 0.94901882])"
      ]
     },
     "execution_count": 10,
     "metadata": {},
     "output_type": "execute_result"
    }
   ],
   "source": [
    "sv_scores"
   ]
  },
  {
   "cell_type": "code",
   "execution_count": 26,
   "metadata": {},
   "outputs": [
    {
     "name": "stdout",
     "output_type": "stream",
     "text": [
      "Fitting 5 folds for each of 6 candidates, totalling 30 fits\n"
     ]
    },
    {
     "name": "stderr",
     "output_type": "stream",
     "text": [
      "[Parallel(n_jobs=-1)]: Using backend LokyBackend with 4 concurrent workers.\n",
      "[Parallel(n_jobs=-1)]: Done  10 tasks      | elapsed:  2.0min\n",
      "[Parallel(n_jobs=-1)]: Done  30 out of  30 | elapsed:  5.6min remaining:    0.0s\n",
      "[Parallel(n_jobs=-1)]: Done  30 out of  30 | elapsed:  5.6min finished\n"
     ]
    },
    {
     "data": {
      "text/plain": [
       "GridSearchCV(cv=None, error_score=nan,\n",
       "             estimator=RandomForestClassifier(bootstrap=True, ccp_alpha=0.0,\n",
       "                                              class_weight=None,\n",
       "                                              criterion='gini', max_depth=None,\n",
       "                                              max_features='auto',\n",
       "                                              max_leaf_nodes=None,\n",
       "                                              max_samples=None,\n",
       "                                              min_impurity_decrease=0.0,\n",
       "                                              min_impurity_split=None,\n",
       "                                              min_samples_leaf=1,\n",
       "                                              min_samples_split=2,\n",
       "                                              min_weight_fraction_leaf=0.0,\n",
       "                                              n_estimators=100, n_jobs=None,\n",
       "                                              oob_score=False,\n",
       "                                              random_state=None, verbose=0,\n",
       "                                              warm_start=False),\n",
       "             iid='deprecated', n_jobs=-1,\n",
       "             param_grid={'max_depth': [50, 100, 500],\n",
       "                         'n_estimators': [80, 100]},\n",
       "             pre_dispatch='2*n_jobs', refit=True, return_train_score=False,\n",
       "             scoring='accuracy', verbose=5)"
      ]
     },
     "execution_count": 26,
     "metadata": {},
     "output_type": "execute_result"
    }
   ],
   "source": [
    "rf_params = {\n",
    "    'n_estimators': [80, 100],\n",
    "    'max_depth': [50, 100, 500]\n",
    "}\n",
    "\n",
    "rf_search = GridSearchCV(rfc, rf_params, scoring='accuracy', verbose=5, n_jobs=-1)\n",
    "rf_search.fit(X_train, y_train)"
   ]
  },
  {
   "cell_type": "markdown",
   "metadata": {},
   "source": [
    "## Results:\n"
   ]
  },
  {
   "cell_type": "code",
   "execution_count": 33,
   "metadata": {},
   "outputs": [
    {
     "data": {
      "text/plain": [
       "{'mean_fit_time': array([37.03110142, 46.07674499, 36.79545283, 45.98899193, 36.79847755,\n",
       "        44.70077114]),\n",
       " 'mean_score_time': array([0.68771267, 0.79062433, 0.64062462, 0.75312471, 0.62500072,\n",
       "        0.69086728]),\n",
       " 'mean_test_score': array([0.96472, 0.96586, 0.96538, 0.9658 , 0.96478, 0.9665 ]),\n",
       " 'param_max_depth': masked_array(data=[50, 50, 100, 100, 500, 500],\n",
       "              mask=[False, False, False, False, False, False],\n",
       "        fill_value='?',\n",
       "             dtype=object),\n",
       " 'param_n_estimators': masked_array(data=[80, 100, 80, 100, 80, 100],\n",
       "              mask=[False, False, False, False, False, False],\n",
       "        fill_value='?',\n",
       "             dtype=object),\n",
       " 'params': [{'max_depth': 50, 'n_estimators': 80},\n",
       "  {'max_depth': 50, 'n_estimators': 100},\n",
       "  {'max_depth': 100, 'n_estimators': 80},\n",
       "  {'max_depth': 100, 'n_estimators': 100},\n",
       "  {'max_depth': 500, 'n_estimators': 80},\n",
       "  {'max_depth': 500, 'n_estimators': 100}],\n",
       " 'rank_test_score': array([6, 2, 4, 3, 5, 1]),\n",
       " 'split0_test_score': array([0.9642, 0.9653, 0.9656, 0.9658, 0.9638, 0.9655]),\n",
       " 'split1_test_score': array([0.9649, 0.9663, 0.9644, 0.9655, 0.9648, 0.968 ]),\n",
       " 'split2_test_score': array([0.9657, 0.9661, 0.9676, 0.9667, 0.9669, 0.9667]),\n",
       " 'split3_test_score': array([0.9625, 0.9641, 0.9629, 0.9637, 0.9629, 0.9648]),\n",
       " 'split4_test_score': array([0.9663, 0.9675, 0.9664, 0.9673, 0.9655, 0.9675]),\n",
       " 'std_fit_time': array([0.09219733, 0.08513294, 0.20909355, 0.22844071, 0.1843486 ,\n",
       "        1.35948552]),\n",
       " 'std_score_time': array([0.05071869, 0.05642338, 0.03562992, 0.0302981 , 0.03423336,\n",
       "        0.04000423]),\n",
       " 'std_test_score': array([0.00131818, 0.00112712, 0.00162037, 0.00122963, 0.00137899,\n",
       "        0.00119833])}"
      ]
     },
     "execution_count": 33,
     "metadata": {},
     "output_type": "execute_result"
    }
   ],
   "source": [
    "rf_search.cv_results_"
   ]
  },
  {
   "cell_type": "markdown",
   "metadata": {},
   "source": [
    "### Random Forest results\n",
    "\n",
    "``\n",
    "{'mean_fit_time': array([37.03110142, 46.07674499, 36.79545283, 45.98899193, 36.79847755,\n",
    "        44.70077114]),\n",
    " 'mean_score_time': array([0.68771267, 0.79062433, 0.64062462, 0.75312471, 0.62500072,\n",
    "        0.69086728]),\n",
    " 'mean_test_score': array([0.96472, 0.96586, 0.96538, 0.9658 , 0.96478, 0.9665 ]),\n",
    " 'param_max_depth': masked_array(data=[50, 50, 100, 100, 500, 500],\n",
    "              mask=[False, False, False, False, False, False],\n",
    "        fill_value='?',\n",
    "             dtype=object),\n",
    " 'param_n_estimators': masked_array(data=[80, 100, 80, 100, 80, 100],\n",
    "              mask=[False, False, False, False, False, False],\n",
    "        fill_value='?',\n",
    "             dtype=object),\n",
    " 'params': [{'max_depth': 50, 'n_estimators': 80},\n",
    "  {'max_depth': 50, 'n_estimators': 100},\n",
    "  {'max_depth': 100, 'n_estimators': 80},\n",
    "  {'max_depth': 100, 'n_estimators': 100},\n",
    "  {'max_depth': 500, 'n_estimators': 80},\n",
    "  {'max_depth': 500, 'n_estimators': 100}],\n",
    " 'rank_test_score': array([6, 2, 4, 3, 5, 1]),\n",
    " 'split0_test_score': array([0.9642, 0.9653, 0.9656, 0.9658, 0.9638, 0.9655]),\n",
    " 'split1_test_score': array([0.9649, 0.9663, 0.9644, 0.9655, 0.9648, 0.968 ]),\n",
    " 'split2_test_score': array([0.9657, 0.9661, 0.9676, 0.9667, 0.9669, 0.9667]),\n",
    " 'split3_test_score': array([0.9625, 0.9641, 0.9629, 0.9637, 0.9629, 0.9648]),\n",
    " 'split4_test_score': array([0.9663, 0.9675, 0.9664, 0.9673, 0.9655, 0.9675]),\n",
    " 'std_fit_time': array([0.09219733, 0.08513294, 0.20909355, 0.22844071, 0.1843486 ,\n",
    "        1.35948552]),\n",
    " 'std_score_time': array([0.05071869, 0.05642338, 0.03562992, 0.0302981 , 0.03423336,\n",
    "        0.04000423]),\n",
    " 'std_test_score': array([0.00131818, 0.00112712, 0.00162037, 0.00122963, 0.00137899,\n",
    "        0.00119833])}\n",
    "``"
   ]
  },
  {
   "cell_type": "code",
   "execution_count": 27,
   "metadata": {},
   "outputs": [
    {
     "name": "stdout",
     "output_type": "stream",
     "text": [
      "Fitting 5 folds for each of 6 candidates, totalling 30 fits\n"
     ]
    },
    {
     "name": "stderr",
     "output_type": "stream",
     "text": [
      "[Parallel(n_jobs=-1)]: Using backend LokyBackend with 4 concurrent workers.\n",
      "[Parallel(n_jobs=-1)]: Done  10 tasks      | elapsed:  2.7min\n",
      "[Parallel(n_jobs=-1)]: Done  30 out of  30 | elapsed:  7.5min remaining:    0.0s\n",
      "[Parallel(n_jobs=-1)]: Done  30 out of  30 | elapsed:  7.5min finished\n"
     ]
    },
    {
     "data": {
      "text/plain": [
       "GridSearchCV(cv=None, error_score=nan,\n",
       "             estimator=ExtraTreesClassifier(bootstrap=False, ccp_alpha=0.0,\n",
       "                                            class_weight=None, criterion='gini',\n",
       "                                            max_depth=None, max_features='auto',\n",
       "                                            max_leaf_nodes=None,\n",
       "                                            max_samples=None,\n",
       "                                            min_impurity_decrease=0.0,\n",
       "                                            min_impurity_split=None,\n",
       "                                            min_samples_leaf=1,\n",
       "                                            min_samples_split=2,\n",
       "                                            min_weight_fraction_leaf=0.0,\n",
       "                                            n_estimators=100, n_jobs=None,\n",
       "                                            oob_score=False, random_state=None,\n",
       "                                            verbose=0, warm_start=False),\n",
       "             iid='deprecated', n_jobs=-1,\n",
       "             param_grid={'max_depth': [50, 100, 500],\n",
       "                         'n_estimators': [80, 100]},\n",
       "             pre_dispatch='2*n_jobs', refit=True, return_train_score=False,\n",
       "             scoring='accuracy', verbose=5)"
      ]
     },
     "execution_count": 27,
     "metadata": {},
     "output_type": "execute_result"
    }
   ],
   "source": [
    "et_params = {\n",
    "    'n_estimators': [80, 100],\n",
    "    'max_depth': [50, 100, 500]\n",
    "}\n",
    "\n",
    "et_search = GridSearchCV(etc, et_params, scoring='accuracy', verbose=5, n_jobs=-1)\n",
    "et_search.fit(X_train, y_train)"
   ]
  },
  {
   "cell_type": "code",
   "execution_count": 32,
   "metadata": {
    "scrolled": true
   },
   "outputs": [
    {
     "data": {
      "text/plain": [
       "{'mean_fit_time': array([49.60879602, 61.71365976, 49.88942537, 62.16636343, 50.71077738,\n",
       "        62.59396634]),\n",
       " 'mean_score_time': array([0.74448681, 0.8501236 , 0.73153663, 0.85000038, 0.70165071,\n",
       "        0.77920132]),\n",
       " 'mean_test_score': array([0.96824, 0.96996, 0.96784, 0.9695 , 0.96838, 0.969  ]),\n",
       " 'param_max_depth': masked_array(data=[50, 50, 100, 100, 500, 500],\n",
       "              mask=[False, False, False, False, False, False],\n",
       "        fill_value='?',\n",
       "             dtype=object),\n",
       " 'param_n_estimators': masked_array(data=[80, 100, 80, 100, 80, 100],\n",
       "              mask=[False, False, False, False, False, False],\n",
       "        fill_value='?',\n",
       "             dtype=object),\n",
       " 'params': [{'max_depth': 50, 'n_estimators': 80},\n",
       "  {'max_depth': 50, 'n_estimators': 100},\n",
       "  {'max_depth': 100, 'n_estimators': 80},\n",
       "  {'max_depth': 100, 'n_estimators': 100},\n",
       "  {'max_depth': 500, 'n_estimators': 80},\n",
       "  {'max_depth': 500, 'n_estimators': 100}],\n",
       " 'rank_test_score': array([5, 1, 6, 2, 4, 3]),\n",
       " 'split0_test_score': array([0.9678, 0.969 , 0.9675, 0.9682, 0.9681, 0.9676]),\n",
       " 'split1_test_score': array([0.9688, 0.9699, 0.9684, 0.9692, 0.9674, 0.9678]),\n",
       " 'split2_test_score': array([0.9689, 0.9696, 0.9683, 0.9705, 0.9696, 0.9697]),\n",
       " 'split3_test_score': array([0.9671, 0.9701, 0.9671, 0.9686, 0.9666, 0.9691]),\n",
       " 'split4_test_score': array([0.9686, 0.9712, 0.9679, 0.971 , 0.9702, 0.9708]),\n",
       " 'std_fit_time': array([0.16218854, 0.31503446, 0.44230415, 0.3279147 , 1.33778482,\n",
       "        3.50093184]),\n",
       " 'std_score_time': array([0.0500954 , 0.03626401, 0.05759633, 0.05191592, 0.04761933,\n",
       "        0.04978237]),\n",
       " 'std_test_score': array([0.00068877, 0.00072277, 0.00048826, 0.00108074, 0.00134224,\n",
       "        0.00119499])}"
      ]
     },
     "execution_count": 32,
     "metadata": {},
     "output_type": "execute_result"
    }
   ],
   "source": [
    "et_search.cv_results_"
   ]
  },
  {
   "cell_type": "markdown",
   "metadata": {},
   "source": [
    "### Extra trees results\n",
    "\n",
    "``\n",
    "{'mean_fit_time': array([49.60879602, 61.71365976, 49.88942537, 62.16636343, 50.71077738,\n",
    "        62.59396634]),\n",
    " 'mean_score_time': array([0.74448681, 0.8501236 , 0.73153663, 0.85000038, 0.70165071,\n",
    "        0.77920132]),\n",
    " 'mean_test_score': array([0.96824, 0.96996, 0.96784, 0.9695 , 0.96838, 0.969  ]),\n",
    " 'param_max_depth': masked_array(data=[50, 50, 100, 100, 500, 500],\n",
    "              mask=[False, False, False, False, False, False],\n",
    "        fill_value='?',\n",
    "             dtype=object),\n",
    " 'param_n_estimators': masked_array(data=[80, 100, 80, 100, 80, 100],\n",
    "              mask=[False, False, False, False, False, False],\n",
    "        fill_value='?',\n",
    "             dtype=object),\n",
    " 'params': [{'max_depth': 50, 'n_estimators': 80},\n",
    "  {'max_depth': 50, 'n_estimators': 100},\n",
    "  {'max_depth': 100, 'n_estimators': 80},\n",
    "  {'max_depth': 100, 'n_estimators': 100},\n",
    "  {'max_depth': 500, 'n_estimators': 80},\n",
    "  {'max_depth': 500, 'n_estimators': 100}],\n",
    " 'rank_test_score': array([5, 1, 6, 2, 4, 3]),\n",
    " 'split0_test_score': array([0.9678, 0.969 , 0.9675, 0.9682, 0.9681, 0.9676]),\n",
    " 'split1_test_score': array([0.9688, 0.9699, 0.9684, 0.9692, 0.9674, 0.9678]),\n",
    " 'split2_test_score': array([0.9689, 0.9696, 0.9683, 0.9705, 0.9696, 0.9697]),\n",
    " 'split3_test_score': array([0.9671, 0.9701, 0.9671, 0.9686, 0.9666, 0.9691]),\n",
    " 'split4_test_score': array([0.9686, 0.9712, 0.9679, 0.971 , 0.9702, 0.9708]),\n",
    " 'std_fit_time': array([0.16218854, 0.31503446, 0.44230415, 0.3279147 , 1.33778482,\n",
    "        3.50093184]),\n",
    " 'std_score_time': array([0.0500954 , 0.03626401, 0.05759633, 0.05191592, 0.04761933,\n",
    "        0.04978237]),\n",
    " 'std_test_score': array([0.00068877, 0.00072277, 0.00048826, 0.00108074, 0.00134224,\n",
    "        0.00119499])}\n",
    "``"
   ]
  },
  {
   "cell_type": "code",
   "execution_count": null,
   "metadata": {},
   "outputs": [],
   "source": []
  },
  {
   "cell_type": "code",
   "execution_count": null,
   "metadata": {},
   "outputs": [],
   "source": []
  }
 ],
 "metadata": {
  "kernelspec": {
   "display_name": "Python 3",
   "language": "python",
   "name": "python3"
  },
  "language_info": {
   "codemirror_mode": {
    "name": "ipython",
    "version": 3
   },
   "file_extension": ".py",
   "mimetype": "text/x-python",
   "name": "python",
   "nbconvert_exporter": "python",
   "pygments_lexer": "ipython3",
   "version": "3.6.4"
  }
 },
 "nbformat": 4,
 "nbformat_minor": 2
}
